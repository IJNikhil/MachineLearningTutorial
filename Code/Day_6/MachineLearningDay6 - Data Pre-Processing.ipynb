{
 "cells": [
  {
   "cell_type": "code",
   "execution_count": 1,
   "id": "349a81fc",
   "metadata": {},
   "outputs": [],
   "source": [
    "# Load the Excel\n",
    "# C:\\\\Users\\\\vijay\\\\Downloads\\\\MachineLeaninig\\\\Day_6\\\\Data Preprocessing Data File.xlsx\n",
    "# Formula, Y = mx + c\n",
    "\n",
    "import numpy as np\n",
    "import pandas as pd\n",
    "import matplotlib.pyplot as plt\n",
    "import seaborn as sns\n",
    "import os"
   ]
  },
  {
   "cell_type": "code",
   "execution_count": 2,
   "id": "04d24fe3",
   "metadata": {},
   "outputs": [
    {
     "name": "stdout",
     "output_type": "stream",
     "text": [
      "   Country   Age   Salary  Purchased \n",
      "0   France   44.0  72000.0         No\n",
      "1       NaN  27.0  48000.0        Yes\n",
      "2  Germany    NaN  54000.0         No\n",
      "3    Spain   39.0      NaN         No\n",
      "4  Germany    NaN  64000.0        Yes\n",
      "5   France   35.0  58000.0        Yes\n",
      "6    Spain   39.0  52000.0         No\n",
      "7   France   48.0      NaN        Yes\n",
      "8  Germany   50.0  83000.0         No\n",
      "9   France   37.0  67000.0        Yes\n"
     ]
    }
   ],
   "source": [
    "# Load data set\n",
    "\n",
    "os.chdir(\"C:\\\\Users\\\\vijay\\\\Downloads\\\\MachineLeaninig\\\\Day_6\\\\\")\n",
    "df1 = pd.read_excel(\"Data Preprocessing Data File.xlsx\")\n",
    "print(df1)"
   ]
  },
  {
   "cell_type": "code",
   "execution_count": 3,
   "id": "e0ab459b",
   "metadata": {},
   "outputs": [
    {
     "name": "stdout",
     "output_type": "stream",
     "text": [
      "[['France ' 44.0 72000.0]\n",
      " [nan 27.0 48000.0]\n",
      " ['Germany ' nan 54000.0]\n",
      " ['Spain ' 39.0 nan]\n",
      " ['Germany ' nan 64000.0]\n",
      " ['France ' 35.0 58000.0]\n",
      " ['Spain ' 39.0 52000.0]\n",
      " ['France ' 48.0 nan]\n",
      " ['Germany ' 50.0 83000.0]\n",
      " ['France ' 37.0 67000.0]]\n"
     ]
    }
   ],
   "source": [
    "# load independent variable and dependent variable to two separate arrays\n",
    "# Columns Independent variable - Country, Age, Salary\n",
    "# Dependent Variable - Purchased\n",
    "\n",
    "# Create X\n",
    "x = df1.iloc[:,:-1].values\n",
    "print(x)"
   ]
  },
  {
   "cell_type": "code",
   "execution_count": 4,
   "id": "2ab69a98",
   "metadata": {},
   "outputs": [
    {
     "name": "stdout",
     "output_type": "stream",
     "text": [
      "['No' 'Yes' 'No' 'No' 'Yes' 'Yes' 'No' 'Yes' 'No' 'Yes']\n"
     ]
    }
   ],
   "source": [
    "# Create Y\n",
    "y = df1.iloc[:, 3].values\n",
    "print(y)"
   ]
  },
  {
   "cell_type": "code",
   "execution_count": 5,
   "id": "a55a072d",
   "metadata": {},
   "outputs": [
    {
     "name": "stdout",
     "output_type": "stream",
     "text": [
      "[['France ' 44.0 72000.0]\n",
      " ['France ' 27.0 48000.0]\n",
      " ['Germany ' nan 54000.0]\n",
      " ['Spain ' 39.0 nan]\n",
      " ['Germany ' nan 64000.0]\n",
      " ['France ' 35.0 58000.0]\n",
      " ['Spain ' 39.0 52000.0]\n",
      " ['France ' 48.0 nan]\n",
      " ['Germany ' 50.0 83000.0]\n",
      " ['France ' 37.0 67000.0]]\n"
     ]
    }
   ],
   "source": [
    "# Missing value treatment - Impute Values\n",
    "# Country - Most Frequent\n",
    "\n",
    "from sklearn.impute import SimpleImputer\n",
    "imputer = SimpleImputer(missing_values = np.nan, strategy = 'most_frequent')\n",
    "imputer = imputer.fit(x[:,0:1])\n",
    "x[:, 0:1] = imputer.transform(x[:,0:1])\n",
    "print(x)"
   ]
  },
  {
   "cell_type": "code",
   "execution_count": 7,
   "id": "1fc455e0",
   "metadata": {},
   "outputs": [
    {
     "name": "stdout",
     "output_type": "stream",
     "text": [
      "[['France ' 44.0 72000.0]\n",
      " ['France ' 27.0 48000.0]\n",
      " ['Germany ' 40 54000.0]\n",
      " ['Spain ' 39.0 nan]\n",
      " ['Germany ' 40 64000.0]\n",
      " ['France ' 35.0 58000.0]\n",
      " ['Spain ' 39.0 52000.0]\n",
      " ['France ' 48.0 nan]\n",
      " ['Germany ' 50.0 83000.0]\n",
      " ['France ' 37.0 67000.0]]\n"
     ]
    }
   ],
   "source": [
    "# Missing value treatment - Impute Values\n",
    "# Age - Constant\n",
    "\n",
    "imputer = SimpleImputer(missing_values = np.nan, strategy = 'constant', fill_value = 40)\n",
    "imputer = imputer.fit(x[:,1:2])\n",
    "x[:,1:2] = imputer.transform(x[:,1:2])\n",
    "print(x)"
   ]
  },
  {
   "cell_type": "code",
   "execution_count": 8,
   "id": "1722f68a",
   "metadata": {},
   "outputs": [
    {
     "name": "stdout",
     "output_type": "stream",
     "text": [
      "[['France ' 44.0 72000.0]\n",
      " ['France ' 27.0 48000.0]\n",
      " ['Germany ' 40 54000.0]\n",
      " ['Spain ' 39.0 62250.0]\n",
      " ['Germany ' 40 64000.0]\n",
      " ['France ' 35.0 58000.0]\n",
      " ['Spain ' 39.0 52000.0]\n",
      " ['France ' 48.0 62250.0]\n",
      " ['Germany ' 50.0 83000.0]\n",
      " ['France ' 37.0 67000.0]]\n"
     ]
    }
   ],
   "source": [
    "# Missing value treatment - Impute Values\n",
    "# Salary - Mean\n",
    "\n",
    "imputer = SimpleImputer(missing_values = np.nan, strategy = 'mean')\n",
    "imputer = imputer.fit(x[:,2:3])\n",
    "x[:,2:3] = imputer.transform(x[:,2:3])\n",
    "print(x)"
   ]
  },
  {
   "cell_type": "code",
   "execution_count": 11,
   "id": "8725f9e9",
   "metadata": {},
   "outputs": [
    {
     "name": "stdout",
     "output_type": "stream",
     "text": [
      "[[0 44.0 72000.0]\n",
      " [0 27.0 48000.0]\n",
      " [1 40 54000.0]\n",
      " [2 39.0 62250.0]\n",
      " [1 40 64000.0]\n",
      " [0 35.0 58000.0]\n",
      " [2 39.0 52000.0]\n",
      " [0 48.0 62250.0]\n",
      " [1 50.0 83000.0]\n",
      " [0 37.0 67000.0]]\n"
     ]
    }
   ],
   "source": [
    "# Label Encoding\n",
    "from sklearn.preprocessing import LabelEncoder\n",
    "label_x = LabelEncoder()\n",
    "x[:,0] = label_x.fit_transform(x[:, 0])\n",
    "print(x)"
   ]
  },
  {
   "cell_type": "code",
   "execution_count": 12,
   "id": "7b08a678",
   "metadata": {},
   "outputs": [
    {
     "name": "stdout",
     "output_type": "stream",
     "text": [
      "[[1.0 0.0 0.0 44.0 72000.0]\n",
      " [1.0 0.0 0.0 27.0 48000.0]\n",
      " [0.0 1.0 0.0 40 54000.0]\n",
      " [0.0 0.0 1.0 39.0 62250.0]\n",
      " [0.0 1.0 0.0 40 64000.0]\n",
      " [1.0 0.0 0.0 35.0 58000.0]\n",
      " [0.0 0.0 1.0 39.0 52000.0]\n",
      " [1.0 0.0 0.0 48.0 62250.0]\n",
      " [0.0 1.0 0.0 50.0 83000.0]\n",
      " [1.0 0.0 0.0 37.0 67000.0]]\n"
     ]
    }
   ],
   "source": [
    "# One hot Encoding/ Column Transformation\n",
    "\n",
    "from sklearn.compose import ColumnTransformer\n",
    "from sklearn.preprocessing import OneHotEncoder\n",
    "\n",
    "ct = ColumnTransformer(transformers = [('encoder', OneHotEncoder(), [0])], remainder = 'passthrough')\n",
    "\n",
    "x = np.array(ct.fit_transform(x))\n",
    "print(x)"
   ]
  },
  {
   "cell_type": "code",
   "execution_count": 13,
   "id": "b55833d2",
   "metadata": {},
   "outputs": [
    {
     "name": "stdout",
     "output_type": "stream",
     "text": [
      "[0 1 0 0 1 1 0 1 0 1]\n"
     ]
    }
   ],
   "source": [
    "# Label Encoding Y\n",
    "\n",
    "label_y = LabelEncoder()\n",
    "y = label_y.fit_transform(y)\n",
    "print(y)"
   ]
  },
  {
   "cell_type": "code",
   "execution_count": 14,
   "id": "a6f2d687",
   "metadata": {},
   "outputs": [
    {
     "name": "stdout",
     "output_type": "stream",
     "text": [
      "     0         1    2         3         4\n",
      "0  1.0 -0.654654 -0.5  0.660861  1.002707\n",
      "1  1.0 -0.654654 -0.5 -2.079293 -1.465494\n",
      "2 -1.0  1.527525 -0.5  0.016119 -0.848444\n",
      "3 -1.0 -0.654654  2.0 -0.145067  0.000000\n",
      "4 -1.0  1.527525 -0.5  0.016119  0.179973\n",
      "5  1.0 -0.654654 -0.5 -0.789809 -0.437077\n",
      "6 -1.0 -0.654654  2.0 -0.145067 -1.054127\n",
      "7  1.0 -0.654654 -0.5  1.305603  0.000000\n",
      "8 -1.0  1.527525 -0.5  1.627974  2.133965\n",
      "9  1.0 -0.654654 -0.5 -0.467438  0.488498\n"
     ]
    }
   ],
   "source": [
    "# Standardization\n",
    "\n",
    "from sklearn.preprocessing import StandardScaler\n",
    "std_sca = StandardScaler()\n",
    "\n",
    "x_STD = std_sca.fit_transform(x)\n",
    "print(pd.DataFrame(x_STD))"
   ]
  },
  {
   "cell_type": "code",
   "execution_count": 15,
   "id": "ce11b824",
   "metadata": {},
   "outputs": [
    {
     "name": "stdout",
     "output_type": "stream",
     "text": [
      "     0    1    2         3         4\n",
      "0  1.0  0.0  0.0  0.739130  0.685714\n",
      "1  1.0  0.0  0.0  0.000000  0.000000\n",
      "2  0.0  1.0  0.0  0.565217  0.171429\n",
      "3  0.0  0.0  1.0  0.521739  0.407143\n",
      "4  0.0  1.0  0.0  0.565217  0.457143\n",
      "5  1.0  0.0  0.0  0.347826  0.285714\n",
      "6  0.0  0.0  1.0  0.521739  0.114286\n",
      "7  1.0  0.0  0.0  0.913043  0.407143\n",
      "8  0.0  1.0  0.0  1.000000  1.000000\n",
      "9  1.0  0.0  0.0  0.434783  0.542857\n"
     ]
    }
   ],
   "source": [
    "# Normalization - MinMaxScaler\n",
    "\n",
    "from sklearn.preprocessing import MinMaxScaler\n",
    "\n",
    "nm_x = MinMaxScaler()\n",
    "x_NOR = nm_x.fit_transform(x)\n",
    "print(pd.DataFrame(x_NOR))"
   ]
  },
  {
   "cell_type": "code",
   "execution_count": 17,
   "id": "4de832ef",
   "metadata": {},
   "outputs": [
    {
     "name": "stdout",
     "output_type": "stream",
     "text": [
      "          0         1         2         3    4\n",
      "0  0.000014  0.000000  0.000000  0.000611  1.0\n",
      "1  0.000021  0.000000  0.000000  0.000562  1.0\n",
      "2  0.000000  0.000019  0.000000  0.000741  1.0\n",
      "3  0.000000  0.000000  0.000016  0.000627  1.0\n",
      "4  0.000000  0.000016  0.000000  0.000625  1.0\n",
      "5  0.000017  0.000000  0.000000  0.000603  1.0\n",
      "6  0.000000  0.000000  0.000019  0.000750  1.0\n",
      "7  0.000016  0.000000  0.000000  0.000771  1.0\n",
      "8  0.000000  0.000012  0.000000  0.000602  1.0\n",
      "9  0.000015  0.000000  0.000000  0.000552  1.0\n"
     ]
    }
   ],
   "source": [
    "# Normalization\n",
    "\n",
    "from sklearn.preprocessing import Normalizer\n",
    "\n",
    "nm_x = Normalizer()\n",
    "x_NOR = nm_x.fit_transform(x)\n",
    "print(pd.DataFrame(x_NOR))"
   ]
  },
  {
   "cell_type": "code",
   "execution_count": 20,
   "id": "08ce87ea",
   "metadata": {},
   "outputs": [
    {
     "name": "stdout",
     "output_type": "stream",
     "text": [
      "          0         1         2         3    4\n",
      "0  0.000000  0.000016  0.000000  0.000625  1.0\n",
      "1  0.000016  0.000000  0.000000  0.000771  1.0\n",
      "2  0.000017  0.000000  0.000000  0.000603  1.0\n",
      "3  0.000021  0.000000  0.000000  0.000562  1.0\n",
      "4  0.000000  0.000000  0.000016  0.000627  1.0\n",
      "5  0.000015  0.000000  0.000000  0.000552  1.0\n",
      "6  0.000000  0.000000  0.000019  0.000750  1.0\n",
      "7  0.000000  0.000012  0.000000  0.000602  1.0 [1 1 1 1 0 1 0 0]\n"
     ]
    }
   ],
   "source": [
    "# Model Creation \n",
    "from sklearn.model_selection import train_test_split\n",
    "\n",
    "x_train, x_test, y_train, y_test = train_test_split(x_NOR, y, test_size = 0.2)\n",
    "print(pd.DataFrame(x_train), y_train)"
   ]
  }
 ],
 "metadata": {
  "kernelspec": {
   "display_name": "Python 3 (ipykernel)",
   "language": "python",
   "name": "python3"
  },
  "language_info": {
   "codemirror_mode": {
    "name": "ipython",
    "version": 3
   },
   "file_extension": ".py",
   "mimetype": "text/x-python",
   "name": "python",
   "nbconvert_exporter": "python",
   "pygments_lexer": "ipython3",
   "version": "3.10.9"
  }
 },
 "nbformat": 4,
 "nbformat_minor": 5
}
