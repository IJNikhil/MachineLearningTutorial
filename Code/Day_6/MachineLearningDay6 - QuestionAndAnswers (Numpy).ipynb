{
 "cells": [
  {
   "cell_type": "code",
   "execution_count": 1,
   "id": "76381505",
   "metadata": {},
   "outputs": [
    {
     "name": "stdout",
     "output_type": "stream",
     "text": [
      "1.23.5\n",
      "blas_armpl_info:\n",
      "  NOT AVAILABLE\n",
      "blas_mkl_info:\n",
      "    libraries = ['mkl_rt']\n",
      "    library_dirs = ['C:/ProgramData/anaconda3\\\\Library\\\\lib']\n",
      "    define_macros = [('SCIPY_MKL_H', None), ('HAVE_CBLAS', None)]\n",
      "    include_dirs = ['C:/ProgramData/anaconda3\\\\Library\\\\include']\n",
      "blas_opt_info:\n",
      "    libraries = ['mkl_rt']\n",
      "    library_dirs = ['C:/ProgramData/anaconda3\\\\Library\\\\lib']\n",
      "    define_macros = [('SCIPY_MKL_H', None), ('HAVE_CBLAS', None)]\n",
      "    include_dirs = ['C:/ProgramData/anaconda3\\\\Library\\\\include']\n",
      "lapack_armpl_info:\n",
      "  NOT AVAILABLE\n",
      "lapack_mkl_info:\n",
      "    libraries = ['mkl_rt']\n",
      "    library_dirs = ['C:/ProgramData/anaconda3\\\\Library\\\\lib']\n",
      "    define_macros = [('SCIPY_MKL_H', None), ('HAVE_CBLAS', None)]\n",
      "    include_dirs = ['C:/ProgramData/anaconda3\\\\Library\\\\include']\n",
      "lapack_opt_info:\n",
      "    libraries = ['mkl_rt']\n",
      "    library_dirs = ['C:/ProgramData/anaconda3\\\\Library\\\\lib']\n",
      "    define_macros = [('SCIPY_MKL_H', None), ('HAVE_CBLAS', None)]\n",
      "    include_dirs = ['C:/ProgramData/anaconda3\\\\Library\\\\include']\n",
      "Supported SIMD extensions in this NumPy install:\n",
      "    baseline = SSE,SSE2,SSE3\n",
      "    found = SSSE3,SSE41,POPCNT,SSE42,AVX,F16C,FMA3,AVX2,AVX512F,AVX512CD,AVX512_SKX,AVX512_CLX,AVX512_CNL\n",
      "    not found = \n",
      "None\n"
     ]
    }
   ],
   "source": [
    "# Que. 1) Write a Numpy program to get the numpy version and show numpy bilds configuration\n",
    "\n",
    "import numpy as np\n",
    "print(np.__version__)\n",
    "print(np.show_config())\n"
   ]
  },
  {
   "cell_type": "code",
   "execution_count": 2,
   "id": "fbdb932d",
   "metadata": {},
   "outputs": [
    {
     "name": "stdout",
     "output_type": "stream",
     "text": [
      "add(x1, x2, /, out=None, *, where=True, casting='same_kind', order='K', dtype=None, subok=True[, signature, extobj])\n",
      "\n",
      "Add arguments element-wise.\n",
      "\n",
      "Parameters\n",
      "----------\n",
      "x1, x2 : array_like\n",
      "    The arrays to be added.\n",
      "    If ``x1.shape != x2.shape``, they must be broadcastable to a common\n",
      "    shape (which becomes the shape of the output).\n",
      "out : ndarray, None, or tuple of ndarray and None, optional\n",
      "    A location into which the result is stored. If provided, it must have\n",
      "    a shape that the inputs broadcast to. If not provided or None,\n",
      "    a freshly-allocated array is returned. A tuple (possible only as a\n",
      "    keyword argument) must have length equal to the number of outputs.\n",
      "where : array_like, optional\n",
      "    This condition is broadcast over the input. At locations where the\n",
      "    condition is True, the `out` array will be set to the ufunc result.\n",
      "    Elsewhere, the `out` array will retain its original value.\n",
      "    Note that if an uninitialized `out` array is created via the default\n",
      "    ``out=None``, locations within it where the condition is False will\n",
      "    remain uninitialized.\n",
      "**kwargs\n",
      "    For other keyword-only arguments, see the\n",
      "    :ref:`ufunc docs <ufuncs.kwargs>`.\n",
      "\n",
      "Returns\n",
      "-------\n",
      "add : ndarray or scalar\n",
      "    The sum of `x1` and `x2`, element-wise.\n",
      "    This is a scalar if both `x1` and `x2` are scalars.\n",
      "\n",
      "Notes\n",
      "-----\n",
      "Equivalent to `x1` + `x2` in terms of array broadcasting.\n",
      "\n",
      "Examples\n",
      "--------\n",
      ">>> np.add(1.0, 4.0)\n",
      "5.0\n",
      ">>> x1 = np.arange(9.0).reshape((3, 3))\n",
      ">>> x2 = np.arange(3.0)\n",
      ">>> np.add(x1, x2)\n",
      "array([[  0.,   2.,   4.],\n",
      "       [  3.,   5.,   7.],\n",
      "       [  6.,   8.,  10.]])\n",
      "\n",
      "The ``+`` operator can be used as a shorthand for ``np.add`` on ndarrays.\n",
      "\n",
      ">>> x1 = np.arange(9.0).reshape((3, 3))\n",
      ">>> x2 = np.arange(3.0)\n",
      ">>> x1 + x2\n",
      "array([[ 0.,  2.,  4.],\n",
      "       [ 3.,  5.,  7.],\n",
      "       [ 6.,  8., 10.]])\n",
      "None\n"
     ]
    }
   ],
   "source": [
    "# Que. 2) Write a Numpy program to get help on the add function\n",
    "\n",
    "print(np.info(np.add))"
   ]
  },
  {
   "cell_type": "code",
   "execution_count": 15,
   "id": "659c618a",
   "metadata": {},
   "outputs": [
    {
     "name": "stdout",
     "output_type": "stream",
     "text": [
      "Original array:\t [1 2 3 4]\n",
      "True\n",
      "Original Array:  [0 1 2 3]\n",
      "Test if none of the elements of the said array is zero\n",
      "False\n"
     ]
    }
   ],
   "source": [
    "# Que. 3) Write a Numpy program to test whether none of the elements of a given array is zero\n",
    "\n",
    "import numpy as np\n",
    "x = np.array([1, 2, 3, 4])\n",
    "print(\"Original array:\\t\", x)\n",
    "\n",
    "print(np.all(x))\n",
    "\n",
    "x = np.array([0, 1, 2, 3])\n",
    "print('Original Array: ', x)\n",
    "\n",
    "print(\"Test if none of the elements of the said array is zero\")\n",
    "print(np.all(x))"
   ]
  },
  {
   "cell_type": "code",
   "execution_count": 22,
   "id": "9d6ac6e7",
   "metadata": {},
   "outputs": [
    {
     "name": "stdout",
     "output_type": "stream",
     "text": [
      "[[0 1 2]\n",
      " [3 4 5]\n",
      " [6 7 8]]\n",
      "False\n",
      "True\n",
      "True\n",
      "True\n",
      "False\n",
      "False\n"
     ]
    }
   ],
   "source": [
    "arr1 = np.arange(9).reshape(3, 3)\n",
    "print(arr1)\n",
    "\n",
    "print(arr1.all())\n",
    "print(arr1.any())\n",
    "\n",
    "arr2 = np.array([1, 2, 3, 4])\n",
    "print(arr2.all())\n",
    "print(arr2.any())\n",
    "\n",
    "arr3 = np.array([0, 0, 0, 0])\n",
    "print(arr3.any())\n",
    "print(arr3.all())"
   ]
  },
  {
   "cell_type": "code",
   "execution_count": null,
   "id": "00b32e95",
   "metadata": {},
   "outputs": [],
   "source": []
  },
  {
   "cell_type": "code",
   "execution_count": 25,
   "id": "62081d1f",
   "metadata": {},
   "outputs": [
    {
     "name": "stdout",
     "output_type": "stream",
     "text": [
      "Original array: [1 0 0 0]\n",
      "Test whether any of the elements of a given array is non-zero: True\n",
      "Original array: [0 0 0 0]\n",
      "Test whether any of the elements of a given array is non-zero: False\n"
     ]
    }
   ],
   "source": [
    "# Que. 4) Write a Numpy program to test whether any of the elements of a given array is non-zero\n",
    "\n",
    "x = np.array([1, 0, 0, 0])\n",
    "print(\"Original array:\", x)\n",
    "print(\"Test whether any of the elements of a given array is non-zero:\", np.any(x))\n",
    "\n",
    "x = np.array([0, 0, 0, 0])\n",
    "print(\"Original array:\", x)\n",
    "print(\"Test whether any of the elements of a given array is non-zero:\", np.any(x))\n"
   ]
  },
  {
   "cell_type": "code",
   "execution_count": 28,
   "id": "4195218c",
   "metadata": {},
   "outputs": [
    {
     "name": "stdout",
     "output_type": "stream",
     "text": [
      "Original Array: [ 1.  0. nan inf]\n",
      "Test a given array element-wise for finiteness: [ True  True False False]\n"
     ]
    }
   ],
   "source": [
    "# Que. 5) Write a Numpy program to test given array element-wise for finiteness (not infinity or nit a number)\n",
    "\n",
    "# numpy.Inf is a IEEE 754 floating point representation of +ve infinity\n",
    "# numpy.NAN is a IEEE 754 floating point representation of noa a NUmber (NaN)\n",
    "# numoy.NINF is a IEEE 754 point representation of -ve infinity\n",
    "\n",
    "a = np.array([1, 0, np.nan, np.inf])\n",
    "print(\"Original Array:\", a)\n",
    "print(\"Test a given array element-wise for finiteness:\", np.isfinite(a))"
   ]
  },
  {
   "cell_type": "code",
   "execution_count": 29,
   "id": "3b44c466",
   "metadata": {},
   "outputs": [
    {
     "name": "stdout",
     "output_type": "stream",
     "text": [
      "Original Array: [ 1.  0. nan inf]\n",
      "Test element-wise for +ve or -ve infinity: [False False False  True]\n"
     ]
    }
   ],
   "source": [
    "# Que. 6) Write a Numpy program to test element-wise for +ve or -ve inifinity\n",
    "\n",
    "a = np.array([1, 0, np.nan, np.inf])\n",
    "print(\"Original Array:\", a)\n",
    "print(\"Test element-wise for +ve or -ve infinity:\", np.isinf(a))"
   ]
  },
  {
   "cell_type": "code",
   "execution_count": 30,
   "id": "a087ce20",
   "metadata": {},
   "outputs": [
    {
     "name": "stdout",
     "output_type": "stream",
     "text": [
      "Original Array: [ 1.  0. nan inf]\n",
      "Test element-wise for +ve or -ve infinity: [False False  True False]\n"
     ]
    }
   ],
   "source": [
    "# Que. 7) Write a Numpy program to test element-wise for NaN of a given array\n",
    "\n",
    "a = np.array([1, 0, np.nan, np.inf])\n",
    "print(\"Original Array:\", a)\n",
    "print(\"Test element-wise for +ve or -ve infinity:\", np.isnan(a))"
   ]
  },
  {
   "cell_type": "code",
   "execution_count": 44,
   "id": "b05c28e3",
   "metadata": {},
   "outputs": [
    {
     "name": "stdout",
     "output_type": "stream",
     "text": [
      "Original Array: [1. +1.j 1. +0.j 4.5+0.j 3. +0.j 2. +0.j 0. +2.j]\n",
      "Checking for complex number: [ True False False False False  True]\n",
      "Checking for real number: [False  True  True  True  True False]\n",
      "Checking for scalar type: False\n",
      "Checking for scalar type: True\n"
     ]
    }
   ],
   "source": [
    "# Que. 8) Write a Numpy program to test element-wise for complex number, real number of a given array. Also test whether a given number is a scalar type or not.\n",
    "\n",
    "# Note:\n",
    "# numpy.isscalar(element)(source) \n",
    "# is Returns True if the type of element is a scaler type\n",
    "# Parameters:\n",
    "# elementany: Input argument, can be of any type and shape\n",
    "# Returns:\n",
    "# valbool: True if elelment is a scalar type, False if it is not.\n",
    "\n",
    "a = np.array([1+1j, 1+0j, 4.5, 3, 2, 2j])\n",
    "print(\"Original Array:\", a)\n",
    "print(\"Checking for complex number:\", np.iscomplex(a))\n",
    "\n",
    "print(\"Checking for real number:\", np.isreal(a))\n",
    "print(\"Checking for scalar type:\", np.isscalar([3.1]))\n",
    "print(\"Checking for scalar type:\", np.isscalar(3.1))"
   ]
  },
  {
   "cell_type": "code",
   "execution_count": 46,
   "id": "9d1d0bdc",
   "metadata": {},
   "outputs": [
    {
     "name": "stdout",
     "output_type": "stream",
     "text": [
      "False\n",
      "False\n",
      "True\n",
      "True\n",
      "True\n",
      "True\n",
      "True\n",
      "True\n"
     ]
    }
   ],
   "source": [
    "a = np.array([4.5, 3, 2, ])  # List\n",
    "b = (10, 20, 30)  # Tuple\n",
    "print(np.isscalar(a))  # List\n",
    "print(np.isscalar(b))  # Tuple\n",
    "print(np.isscalar(10))  # Integer\n",
    "print(np.isscalar(10.5))\n",
    "print(np.isscalar(-10))\n",
    "print(np.isscalar(True))  # Boolean\n",
    "print(np.isscalar('Today'))  # String\n",
    "print(np.isscalar('1+1j'))  # Complex"
   ]
  },
  {
   "cell_type": "code",
   "execution_count": 51,
   "id": "f92322a6",
   "metadata": {},
   "outputs": [
    {
     "name": "stdout",
     "output_type": "stream",
     "text": [
      "Original numbers:  [3 5]  &  [2 5]\n",
      "Comparison - Greater:  [ True False]\n",
      "Comparison - Greater_Equal:  [ True  True]\n",
      "Comparison - less:  [False False]\n",
      "COmparison - less_equal:  [False  True]\n"
     ]
    }
   ],
   "source": [
    "# Que. 9) Write a Numpy program to create an element-wise comparison (greater, greater_equal, less and less_equal) of two given arrays.\n",
    "\n",
    "x = np.array([3, 5])\n",
    "y = np.array([2, 5])\n",
    "print(\"Original numbers: \", x, \" & \", y)\n",
    "print(\"Comparison - Greater: \", np.greater(x, y))\n",
    "print(\"Comparison - Greater_Equal: \", np.greater_equal(x, y))\n",
    "print(\"Comparison - less: \", np.less(x, y))\n",
    "print(\"COmparison - less_equal: \", np.less_equal(x, y))"
   ]
  },
  {
   "cell_type": "code",
   "execution_count": null,
   "id": "e663d88b",
   "metadata": {},
   "outputs": [],
   "source": []
  },
  {
   "cell_type": "code",
   "execution_count": 64,
   "id": "6b532d53",
   "metadata": {},
   "outputs": [
    {
     "name": "stdout",
     "output_type": "stream",
     "text": [
      "Original numbers:  [  72   79   85   90  150 -135  120  -10   60  100]  &  [  72.         79.         85.         90.        150.       -135.\n",
      "  120.        -10.         60.        100.000001]\n",
      "Comparison - equal [ True  True  True  True  True  True  True  True  True False]\n",
      "Comparison - equal within a tolerance:  True\n"
     ]
    }
   ],
   "source": [
    "# Que. 10) Write a Numpy program to create an element-wise comparison (equal, equal withis a tolerance) of two given arrays.\n",
    "\n",
    "x = np.array([72, 79, 85, 90,150, -135, 120, -10, 60, 100])\n",
    "y = np.array([72, 79, 85, 90, 150, -135, 120, -10, 60, 100.000001])\n",
    "print(\"Original numbers: \", x, \" & \", y)\n",
    "print(\"Comparison - equal\", np.equal(x, y))\n",
    "print(\"Comparison - equal within a tolerance: \", np.allclose(x, y))"
   ]
  },
  {
   "cell_type": "code",
   "execution_count": 70,
   "id": "235d015c",
   "metadata": {},
   "outputs": [
    {
     "name": "stdout",
     "output_type": "stream",
     "text": [
      "Original Array:  [  1   7  13 105]\n",
      "Size of the memory occupied by the said array: \n",
      "16 bytes \n"
     ]
    }
   ],
   "source": [
    "# Que. 11) Write a Numpy program to create an array with the values 1, 7, 13, 105 and determine the size of the memory occupies by the array.\n",
    "\n",
    "x = np.array([1, 7, 13, 105])\n",
    "print(\"Original Array: \", x)\n",
    "print(\"Size of the memory occupied by the said array: \")\n",
    "print(\"%d bytes \" %(x.size * x.itemsize))"
   ]
  },
  {
   "cell_type": "code",
   "execution_count": 79,
   "id": "e205dc5a",
   "metadata": {},
   "outputs": [
    {
     "name": "stdout",
     "output_type": "stream",
     "text": [
      "An array of 10 zeros:  [0. 0. 0. 0. 0. 0. 0. 0. 0. 0.]\n",
      "An array of 10 ones:  [1. 1. 1. 1. 1. 1. 1. 1. 1. 1.]\n",
      "An array of 10 fives:  [5. 5. 5. 5. 5. 5. 5. 5. 5. 5.]\n",
      "An array of all mix:  [array([0., 0., 0., 0., 0., 0., 0., 0., 0., 0.]), array([1., 1., 1., 1., 1., 1., 1., 1., 1., 1.]), array([5., 5., 5., 5., 5., 5., 5., 5., 5., 5.])]\n"
     ]
    }
   ],
   "source": [
    "# Que. 12) Write a Numpy program to create an array of 10 zeros, 10 ones, 10 fives.\n",
    "\n",
    "zarray = np.zeros(10)\n",
    "oarray = np.ones(10)\n",
    "farray = np.ones(10) * 5\n",
    "print(\"An array of 10 zeros: \", zarray)\n",
    "print(\"An array of 10 ones: \", oarray)\n",
    "print(\"An array of 10 fives: \", farray)\n",
    "\n",
    "array = ([zarray, oarray, farray])\n",
    "print(\"An array of all mix: \", array)"
   ]
  },
  {
   "cell_type": "code",
   "execution_count": 89,
   "id": "6da61dab",
   "metadata": {},
   "outputs": [
    {
     "name": "stdout",
     "output_type": "stream",
     "text": [
      "Array of the integers from 30 to 70 :  [30 31 32 33 34 35 36 37 38 39 40 41 42 43 44 45 46 47 48 49 50 51 52 53\n",
      " 54 55 56 57 58 59 60 61 62 63 64 65 66 67 68 69 70]\n"
     ]
    }
   ],
   "source": [
    "# Que. 13) Write a Numpy program to create an array of the integers from 30 to 70.\n",
    "\n",
    "array = np.arange(30, 71)\n",
    "print(\"Array of the integers from 30 to 70 : \", array)"
   ]
  },
  {
   "cell_type": "code",
   "execution_count": 90,
   "id": "607c3925",
   "metadata": {},
   "outputs": [
    {
     "name": "stdout",
     "output_type": "stream",
     "text": [
      "Array of all the even integers from 30 to 70 :  [30 32 34 36 38 40 42 44 46 48 50 52 54 56 58 60 62 64 66 68 70]\n"
     ]
    }
   ],
   "source": [
    "# Que. 14) Write a Numpy program to create an array of all the even integers from 30 to 70.\n",
    "\n",
    "array = np.arange(30, 71, 2)\n",
    "print(\"Array of all the even integers from 30 to 70 : \", array)"
   ]
  },
  {
   "cell_type": "code",
   "execution_count": null,
   "id": "ae17d549",
   "metadata": {},
   "outputs": [],
   "source": []
  }
 ],
 "metadata": {
  "kernelspec": {
   "display_name": "Python 3 (ipykernel)",
   "language": "python",
   "name": "python3"
  },
  "language_info": {
   "codemirror_mode": {
    "name": "ipython",
    "version": 3
   },
   "file_extension": ".py",
   "mimetype": "text/x-python",
   "name": "python",
   "nbconvert_exporter": "python",
   "pygments_lexer": "ipython3",
   "version": "3.10.9"
  }
 },
 "nbformat": 4,
 "nbformat_minor": 5
}
