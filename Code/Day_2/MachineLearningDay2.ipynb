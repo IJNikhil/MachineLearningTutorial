{
 "cells": [
  {
   "cell_type": "code",
   "execution_count": 1,
   "id": "6c2a797a",
   "metadata": {},
   "outputs": [
    {
     "name": "stdout",
     "output_type": "stream",
     "text": [
      "100 and 100 are equal\n"
     ]
    }
   ],
   "source": [
    "# If Condition\n",
    "\n",
    "a = 100\n",
    "b = 100\n",
    "if a>b:\n",
    "    print(a, \"Greater than\", b)\n",
    "elif b>a:\n",
    "    print(b, \"greater than\", a)\n",
    "else:\n",
    "    print(a, \"and\", b, \"are equal\")"
   ]
  },
  {
   "cell_type": "code",
   "execution_count": 2,
   "id": "e6c8ca10",
   "metadata": {},
   "outputs": [
    {
     "name": "stdout",
     "output_type": "stream",
     "text": [
      "300 Greater than 200\n"
     ]
    }
   ],
   "source": [
    "# if condition between\n",
    "\n",
    "a = 300\n",
    "if a<100:\n",
    "    print(a, \"Less than 100\")\n",
    "elif (100 <= a <= 200):\n",
    "    print(a, \"is between 100 and 200\")\n",
    "else:\n",
    "    print(a, \"Greater than 200\")"
   ]
  },
  {
   "cell_type": "code",
   "execution_count": 4,
   "id": "359145b6",
   "metadata": {},
   "outputs": [
    {
     "name": "stdout",
     "output_type": "stream",
     "text": [
      "40 less than 100\n",
      "40 is between 20 and 50\n"
     ]
    }
   ],
   "source": [
    "# Nested if condition\n",
    "\n",
    "a = 40\n",
    "if a<100:\n",
    "    print(a, \"less than 100\")\n",
    "    \n",
    "    if (50 <= a <= 100):\n",
    "        print(a, \"is between 50 and 100\")\n",
    "    elif (20 <= a <= 50):\n",
    "        print(a, \"is between 20 and 50\")\n",
    "    else:\n",
    "        print(a, \"is less than 20\")\n",
    "        \n",
    "elif (20 <= a <= 200):\n",
    "    print(a, \"is between 50 and 200\")\n",
    "else:\n",
    "    print(a, \"greater than 200\")"
   ]
  },
  {
   "cell_type": "code",
   "execution_count": 6,
   "id": "bfda4448",
   "metadata": {},
   "outputs": [
    {
     "name": "stdout",
     "output_type": "stream",
     "text": [
      "The number is 1\n",
      "The number is 2\n",
      "The number is 3\n",
      "The number is 4\n",
      "Program end\n"
     ]
    }
   ],
   "source": [
    "# while loop\n",
    "\n",
    "a = 1\n",
    "\n",
    "while a < 5:\n",
    "    print(\"The number is\", a)\n",
    "    a+=1\n",
    "print(\"Program end\")"
   ]
  },
  {
   "cell_type": "code",
   "execution_count": 7,
   "id": "0bce4f41",
   "metadata": {},
   "outputs": [
    {
     "name": "stdout",
     "output_type": "stream",
     "text": [
      "0\n",
      "1\n",
      "2\n",
      "3\n",
      "Goody Day\n"
     ]
    }
   ],
   "source": [
    "# For Loop\n",
    "\n",
    "A = [10, 15, 20, 25]\n",
    "\n",
    "for i in range(len(A)):\n",
    "    print(i)\n",
    "print(\"Goody Day\")"
   ]
  },
  {
   "cell_type": "code",
   "execution_count": 8,
   "id": "caafe568",
   "metadata": {},
   "outputs": [
    {
     "name": "stdout",
     "output_type": "stream",
     "text": [
      "10\n",
      "15\n",
      "20\n",
      "25\n",
      "Good Day\n"
     ]
    }
   ],
   "source": [
    "for i in A:\n",
    "    print(i)\n",
    "print(\"Good Day\")"
   ]
  },
  {
   "cell_type": "code",
   "execution_count": 9,
   "id": "bfabc45b",
   "metadata": {},
   "outputs": [
    {
     "name": "stdout",
     "output_type": "stream",
     "text": [
      "\n",
      "1\n",
      "22\n",
      "333\n",
      "4444\n",
      "55555\n",
      "666666\n",
      "7777777\n",
      "88888888\n",
      "999999999\n",
      "Good Day\n"
     ]
    }
   ],
   "source": [
    "# Nested Loop\n",
    "\n",
    "for i in range(10):\n",
    "    print(str(i)*i)\n",
    "print(\"Good Day\")"
   ]
  },
  {
   "cell_type": "code",
   "execution_count": 10,
   "id": "04e8a53a",
   "metadata": {},
   "outputs": [
    {
     "name": "stdout",
     "output_type": "stream",
     "text": [
      "Pen\n",
      "  School\n",
      "  College\n",
      "Pencil\n",
      "  School\n",
      "  College\n",
      "Book\n",
      "  School\n",
      "  College\n",
      "Toy\n",
      "  School\n",
      "  College\n"
     ]
    }
   ],
   "source": [
    "A = [\"Pen\", \"Pencil\", \"Book\",\"Toy\"]\n",
    "B = [\"School\", \"College\"]\n",
    "\n",
    "for i in A:\n",
    "    print(i)\n",
    "    \n",
    "    for j in B:\n",
    "        print(' ', j)"
   ]
  },
  {
   "cell_type": "code",
   "execution_count": 14,
   "id": "2283a68f",
   "metadata": {},
   "outputs": [
    {
     "name": "stdout",
     "output_type": "stream",
     "text": [
      "Enter the Value:\t5\n",
      "Enter the Value:\t10\n",
      "Data type of no1:\t <class 'str'>\n",
      "Addition is:\t\t\t 15\n"
     ]
    }
   ],
   "source": [
    "no1 = input(\"Enter the Value:\\t\")\n",
    "no2 = input(\"Enter the Value:\\t\")\n",
    "\n",
    "print(\"Data type of no1:\\t\", type(no1))\n",
    "\n",
    "no3 = int(no1) + int(no2)\n",
    "print(\"Addition is:\\t\\t\",no3)"
   ]
  },
  {
   "cell_type": "code",
   "execution_count": 15,
   "id": "5ef4873f",
   "metadata": {},
   "outputs": [
    {
     "name": "stdout",
     "output_type": "stream",
     "text": [
      "20\n",
      "[10, 20, 30]\n",
      "70\n",
      "40\n",
      "[40, 50]\n",
      "[40, 50, 60, 70]\n"
     ]
    }
   ],
   "source": [
    "# list\n",
    "\n",
    "list1 = [10, 20, 30, 40, 50, 60, 70]\n",
    "print(list1[1])\n",
    "print(list1[0:3])\n",
    "print(list1[-1])\n",
    "print(list1[-4])\n",
    "print(list1[-4:-2])\n",
    "print(list1[-4:])"
   ]
  },
  {
   "cell_type": "code",
   "execution_count": 16,
   "id": "1094445d",
   "metadata": {},
   "outputs": [
    {
     "name": "stdout",
     "output_type": "stream",
     "text": [
      "[10, 20, 30, 40, 50, 60, 70, 100, 110, 120, 50, 51, 52]\n"
     ]
    }
   ],
   "source": [
    "# list Concatenation\n",
    "\n",
    "list2 = [100, 110, 120]\n",
    "print(list1 + list2 + [50, 51, 52])"
   ]
  },
  {
   "cell_type": "code",
   "execution_count": 17,
   "id": "b9a089e2",
   "metadata": {},
   "outputs": [
    {
     "name": "stdout",
     "output_type": "stream",
     "text": [
      "[100, 110, 120, 100, 110, 120, 100, 110, 120]\n"
     ]
    }
   ],
   "source": [
    "# Repeat\n",
    "\n",
    "print(list2 * 3)"
   ]
  },
  {
   "cell_type": "code",
   "execution_count": 18,
   "id": "3751b436",
   "metadata": {},
   "outputs": [
    {
     "name": "stdout",
     "output_type": "stream",
     "text": [
      "False\n"
     ]
    }
   ],
   "source": [
    "# Member Ship\n",
    "\n",
    "print(150 in list2)"
   ]
  },
  {
   "cell_type": "code",
   "execution_count": 20,
   "id": "bcd0eaab",
   "metadata": {},
   "outputs": [
    {
     "name": "stdout",
     "output_type": "stream",
     "text": [
      "['John', 'Rick', 'Jim']\n",
      "[]\n"
     ]
    }
   ],
   "source": [
    "# Delete from list (Del, Remove, Pop)\n",
    "\n",
    "list1 = [\"John\", \"Sam\", \"Rick\", \"Jim\"]\n",
    "del(list1[1])\n",
    "print(list1)\n",
    "\n",
    "# Del on row\n",
    "\n",
    "list1 = [\"John\", \"Sam\", \"Rick\", \"Jim\"]\n",
    "del(list1[0:])\n",
    "print(list1)"
   ]
  },
  {
   "cell_type": "code",
   "execution_count": 23,
   "id": "d8f83b8e",
   "metadata": {},
   "outputs": [
    {
     "name": "stdout",
     "output_type": "stream",
     "text": [
      "Rick\n",
      "['John', 'Sam', 'Jim']\n",
      "None\n",
      "['Sam', 'Rick', 'Jim']\n"
     ]
    }
   ],
   "source": [
    "# pop from list\n",
    "\n",
    "list1 = ['John', 'Sam', 'Rick', 'Jim']\n",
    "a = list1.pop(2)\n",
    "print(a)\n",
    "print(list1)\n",
    "\n",
    "# Remove from list\n",
    "list1 = ['John', 'Sam', 'Rick', 'Jim']\n",
    "a = list1.remove('John')\n",
    "print(a)\n",
    "print(list1)"
   ]
  },
  {
   "cell_type": "code",
   "execution_count": 25,
   "id": "10e90dae",
   "metadata": {},
   "outputs": [
    {
     "name": "stdout",
     "output_type": "stream",
     "text": [
      "[1, 2, 3, 4, 5, 6, 7]\n"
     ]
    }
   ],
   "source": [
    "# append to list\n",
    "\n",
    "list1 = [1, 2, 3, 4, 5, 6]\n",
    "\n",
    "list1.append(7)\n",
    "\n",
    "print(list1)"
   ]
  },
  {
   "cell_type": "code",
   "execution_count": 26,
   "id": "6253ecd8",
   "metadata": {},
   "outputs": [
    {
     "name": "stdout",
     "output_type": "stream",
     "text": [
      "[2, 4, 6, 8, 10]\n"
     ]
    }
   ],
   "source": [
    "# Method 1\n",
    "list1 = []\n",
    "for x in [1, 2, 3, 4, 5]:\n",
    "    list1.append(x * 2)\n",
    "print(list1)"
   ]
  },
  {
   "cell_type": "code",
   "execution_count": 27,
   "id": "b6de2c14",
   "metadata": {},
   "outputs": [
    {
     "name": "stdout",
     "output_type": "stream",
     "text": [
      "[2, 4, 6, 8, 10]\n"
     ]
    }
   ],
   "source": [
    "# Method 2\n",
    "list1  = [x * 2 for x in [1, 2, 3, 4, 5]]\n",
    "print(list1)"
   ]
  },
  {
   "cell_type": "code",
   "execution_count": 28,
   "id": "6a7edf65",
   "metadata": {},
   "outputs": [
    {
     "name": "stdout",
     "output_type": "stream",
     "text": [
      "[1, 2, ['P', 'Q', 'R'], 'M', 3, 4, 5, 6, 15, 'A', 'B', 'C']\n"
     ]
    }
   ],
   "source": [
    "# Append, Insert, Extend\n",
    "\n",
    "list1 = [1, 2, 3, 4, 5, 6]\n",
    "list1.append(15)\n",
    "list1.extend(['A', 'B', 'C'])\n",
    "list1.insert(2, 'M')\n",
    "list1.insert(2, ['P', 'Q', 'R'])\n",
    "print(list1)"
   ]
  },
  {
   "cell_type": "code",
   "execution_count": 29,
   "id": "cd3ebf9e",
   "metadata": {},
   "outputs": [
    {
     "name": "stdout",
     "output_type": "stream",
     "text": [
      "['Rick', 'Jim', 'Mark', 'Jack', 'Ken']\n",
      "['Jack', 'Jim', 'Ken', 'Mark', 'Rick']\n"
     ]
    }
   ],
   "source": [
    "# Sort Example 1\n",
    "\n",
    "list1 = ['Rick', 'Jim', 'Mark', 'Jack', 'Ken']\n",
    "list2 = sorted(list1)\n",
    "print(list1)\n",
    "print(list2)"
   ]
  },
  {
   "cell_type": "code",
   "execution_count": 31,
   "id": "33f53170",
   "metadata": {},
   "outputs": [
    {
     "name": "stdout",
     "output_type": "stream",
     "text": [
      "['Rick', 'Jim', 'Mark', '10', '50', '60', 'Jack', 'jack', 'Ken']\n",
      "['10', '50', '60', 'Jack', 'Jim', 'Ken', 'Mark', 'Rick', 'jack']\n"
     ]
    }
   ],
   "source": [
    "# Sort Example 2\n",
    "\n",
    "list1 = ['Rick', 'Jim', 'Mark', '10','50', '60', 'Jack', 'jack', 'Ken']\n",
    "list2 = sorted(list1)\n",
    "print(list1)\n",
    "print(list2)\n",
    "\n",
    "\n",
    "# Sort /Sorted \n",
    "# sort() function will modify the list it is called on.\n",
    "# sorted() function will create a new list containing a sorted \n",
    "# version of the list."
   ]
  },
  {
   "cell_type": "code",
   "execution_count": 33,
   "id": "dba7c276",
   "metadata": {},
   "outputs": [
    {
     "name": "stdout",
     "output_type": "stream",
     "text": [
      "[10, 12, 12, 15, 20, 22, 30, 40]\n",
      "[10, 20, 30, 15, 12, 40, 22, 12]\n",
      "[10, 12, 12, 15, 20, 22, 30, 40]\n"
     ]
    }
   ],
   "source": [
    "x = [10, 20, 30, 15, 12, 40, 22, 12]\n",
    "print(sorted(x))\n",
    "sortx = sorted(x)\n",
    "print(x)\n",
    "print(sortx)"
   ]
  },
  {
   "cell_type": "code",
   "execution_count": 35,
   "id": "f764ed65",
   "metadata": {},
   "outputs": [
    {
     "name": "stdout",
     "output_type": "stream",
     "text": [
      "None\n",
      "[10, 12, 12, 15, 20, 22, 30, 40]\n",
      "None\n"
     ]
    }
   ],
   "source": [
    "# sort()\n",
    "\n",
    "x = [10, 20, 30, 15, 12, 40, 22, 12]\n",
    "print(x.sort())\n",
    "sortx = x.sort()\n",
    "print(x)\n",
    "print(sortx)"
   ]
  },
  {
   "cell_type": "code",
   "execution_count": 36,
   "id": "60353902",
   "metadata": {},
   "outputs": [
    {
     "name": "stdout",
     "output_type": "stream",
     "text": [
      "['Ken', 'jack', 'Jack', '60', '50', '10', 'Mark', 'Jim', 'Rick']\n",
      "['50', '10']\n"
     ]
    }
   ],
   "source": [
    "# Print in reverse order\n",
    "\n",
    "print(list1[::-1])\n",
    "\n",
    "print(list1[4:2:-1])"
   ]
  },
  {
   "cell_type": "code",
   "execution_count": 37,
   "id": "5c952611",
   "metadata": {},
   "outputs": [
    {
     "name": "stdout",
     "output_type": "stream",
     "text": [
      "Red \n",
      " Blue \n",
      " White\n"
     ]
    }
   ],
   "source": [
    "# List Summary\n",
    "\n",
    "# Making a list:\n",
    "colors =['Red', 'Blue', 'Green', 'Black', 'White']\n",
    "\n",
    "# Getting the first element\n",
    "first_color = colors[0]\n",
    "\n",
    "# Getting the Second element\n",
    "second_color = colors[1]\n",
    "\n",
    "# Getting the last element\n",
    "newest_color = colors[-1]\n",
    "\n",
    "print(first_color, \"\\n\", second_color, \"\\n\", newest_color)"
   ]
  },
  {
   "cell_type": "code",
   "execution_count": 40,
   "id": "2cf594dc",
   "metadata": {},
   "outputs": [
    {
     "name": "stdout",
     "output_type": "stream",
     "text": [
      "['Yellow', 'Blue', 'Green', 'Red', 'White']\n",
      "['Yellow', 'Blue', 'Green', 'Red', 'White']\n"
     ]
    }
   ],
   "source": [
    "# Modifying individual items\n",
    "\n",
    "print(colors)\n",
    "#Changing an element\n",
    "colors[0] = 'Yellow'\n",
    "colors[-2] = 'Red'\n",
    "print(colors)"
   ]
  },
  {
   "cell_type": "code",
   "execution_count": 42,
   "id": "6c091f3d",
   "metadata": {},
   "outputs": [
    {
     "name": "stdout",
     "output_type": "stream",
     "text": [
      "['Yellow', 'Blue', 'Green', 'Red', 'White', 'Orange', 'Orange']\n"
     ]
    }
   ],
   "source": [
    "# Adding elements:\n",
    "# Adding an element to the end of the list\n",
    "colors.append('Orange')\n",
    "print(colors)"
   ]
  },
  {
   "cell_type": "code",
   "execution_count": 43,
   "id": "3aa33092",
   "metadata": {},
   "outputs": [
    {
     "name": "stdout",
     "output_type": "stream",
     "text": [
      "['Red', 'Blue', 'Green']\n"
     ]
    }
   ],
   "source": [
    "# Starting wiht an empty list\n",
    "colors = []\n",
    "colors.append('Red')\n",
    "colors.append('Blue')\n",
    "colors.append('Green')\n",
    "print(colors)"
   ]
  },
  {
   "cell_type": "code",
   "execution_count": 44,
   "id": "30890c23",
   "metadata": {},
   "outputs": [
    {
     "name": "stdout",
     "output_type": "stream",
     "text": [
      "['Violet', 'Red', 'Purple', 'Blue', 'Green']\n"
     ]
    }
   ],
   "source": [
    "# Inserting elements at a particular position\n",
    "colors.insert(0, 'Violet')\n",
    "colors.insert(2, 'Purple')\n",
    "print(colors)"
   ]
  },
  {
   "cell_type": "code",
   "execution_count": 45,
   "id": "771dd7e4",
   "metadata": {},
   "outputs": [
    {
     "name": "stdout",
     "output_type": "stream",
     "text": [
      "['Violet', 'Red', 'Purple', 'Blue']\n"
     ]
    }
   ],
   "source": [
    "# Removing elements\n",
    "\n",
    "#Deleting an element by its position\n",
    "del colors[-1]\n",
    "print(colors)"
   ]
  },
  {
   "cell_type": "code",
   "execution_count": 46,
   "id": "945ed4bb",
   "metadata": {},
   "outputs": [
    {
     "name": "stdout",
     "output_type": "stream",
     "text": [
      "['Red', 'Blue', 'Black', 'White']\n"
     ]
    }
   ],
   "source": [
    "# Removing an item by its value\n",
    "\n",
    "colors = ['Red', 'Blue', 'Green', 'Black', 'White']\n",
    "colors.remove('Green')\n",
    "print(colors)"
   ]
  },
  {
   "cell_type": "code",
   "execution_count": 47,
   "id": "4875bb64",
   "metadata": {},
   "outputs": [
    {
     "name": "stdout",
     "output_type": "stream",
     "text": [
      "White\n"
     ]
    }
   ],
   "source": [
    "# Popping elements\n",
    "# Pop the last item from a list\n",
    "\n",
    "most_recent_color = colors.pop()\n",
    "print(most_recent_color)"
   ]
  },
  {
   "cell_type": "code",
   "execution_count": 48,
   "id": "1272d72b",
   "metadata": {},
   "outputs": [
    {
     "name": "stdout",
     "output_type": "stream",
     "text": [
      "Red\n",
      "['Blue', 'Black']\n"
     ]
    }
   ],
   "source": [
    "first_color = colors.pop(0)\n",
    "print(first_color)\n",
    "print(colors)"
   ]
  },
  {
   "cell_type": "code",
   "execution_count": 50,
   "id": "282b3ab8",
   "metadata": {},
   "outputs": [
    {
     "name": "stdout",
     "output_type": "stream",
     "text": [
      "We have 2 colors.\n"
     ]
    }
   ],
   "source": [
    "# Length\n",
    "num_colors = len(colors)\n",
    "print(\"We have \" + str(num_colors) + \" colors.\")"
   ]
  },
  {
   "cell_type": "code",
   "execution_count": 52,
   "id": "004cacb5",
   "metadata": {},
   "outputs": [
    {
     "name": "stdout",
     "output_type": "stream",
     "text": [
      "['Black', 'Blue']\n"
     ]
    }
   ],
   "source": [
    "# Sorting a list:\n",
    "# Sorting a list permanently\n",
    "colors.sort()\n",
    "print(colors)"
   ]
  },
  {
   "cell_type": "code",
   "execution_count": 53,
   "id": "7dee52e2",
   "metadata": {},
   "outputs": [
    {
     "name": "stdout",
     "output_type": "stream",
     "text": [
      "['Blue', 'Black']\n"
     ]
    }
   ],
   "source": [
    "# Sorting a list permanently in reverse alphabetical order\n",
    "colors.sort(reverse = True)\n"
   ]
  },
  {
   "cell_type": "code",
   "execution_count": 55,
   "id": "b5217911",
   "metadata": {},
   "outputs": [
    {
     "name": "stdout",
     "output_type": "stream",
     "text": [
      "['Black', 'Blue']\n",
      "['Blue', 'Black']\n"
     ]
    }
   ],
   "source": [
    "# Sorting a list temporarily\n",
    "print(sorted(colors))\n",
    "print(sorted(colors, reverse = True))"
   ]
  },
  {
   "cell_type": "code",
   "execution_count": 56,
   "id": "5386f273",
   "metadata": {},
   "outputs": [
    {
     "name": "stdout",
     "output_type": "stream",
     "text": [
      "['Black', 'Blue']\n"
     ]
    }
   ],
   "source": [
    "# Reversing the order of a list\n",
    "colors.reverse()\n",
    "print(colors)"
   ]
  },
  {
   "cell_type": "code",
   "execution_count": 57,
   "id": "b5f72e51",
   "metadata": {},
   "outputs": [
    {
     "name": "stdout",
     "output_type": "stream",
     "text": [
      "Black\n",
      "Blue\n"
     ]
    }
   ],
   "source": [
    "# Looping through a list:\n",
    "# Printing all items in a list\n",
    "\n",
    "for col in colors:\n",
    "    print(col)"
   ]
  },
  {
   "cell_type": "code",
   "execution_count": 58,
   "id": "3fc5b131",
   "metadata": {},
   "outputs": [
    {
     "name": "stdout",
     "output_type": "stream",
     "text": [
      "Welcome Black!\n",
      "Welcome Blue!\n",
      "Welcome, we're glad to see you all!\n"
     ]
    }
   ],
   "source": [
    "# Printing a message for each item, and a separate message afterwords\n",
    "\n",
    "for col in colors:\n",
    "    print(\"Welcome \" + col + \"!\")\n",
    "print(\"Welcome, we're glad to see you all!\")"
   ]
  },
  {
   "cell_type": "code",
   "execution_count": 60,
   "id": "e87d42b5",
   "metadata": {},
   "outputs": [
    {
     "name": "stdout",
     "output_type": "stream",
     "text": [
      "0\n",
      "1\n",
      "2\n",
      "3\n",
      "4\n",
      "5\n",
      "6\n",
      "7\n",
      "8\n",
      "9\n",
      "10\n"
     ]
    }
   ],
   "source": [
    "# The range() function:\n",
    "# Printing the numbers 0 to 10\n",
    "\n",
    "for num in range(11):\n",
    "    print(num)"
   ]
  },
  {
   "cell_type": "code",
   "execution_count": 1,
   "id": "5bc2c6f7",
   "metadata": {},
   "outputs": [
    {
     "name": "stdout",
     "output_type": "stream",
     "text": [
      "1\n",
      "2\n",
      "3\n",
      "4\n",
      "5\n",
      "6\n",
      "7\n",
      "8\n",
      "9\n",
      "10\n"
     ]
    }
   ],
   "source": [
    "# Printing the numbers 1 to 10\n",
    "\n",
    "for num in range(1, 11):\n",
    "    print(num)"
   ]
  },
  {
   "cell_type": "code",
   "execution_count": 5,
   "id": "635a5f04",
   "metadata": {},
   "outputs": [],
   "source": [
    "# Making a list of numbers from 1 to a million\n",
    "\n",
    "nums = list(range(1, 1000001))\n"
   ]
  },
  {
   "cell_type": "code",
   "execution_count": 6,
   "id": "e4280f97",
   "metadata": {},
   "outputs": [
    {
     "name": "stdout",
     "output_type": "stream",
     "text": [
      "1\n"
     ]
    }
   ],
   "source": [
    "# Simple Statistics\n",
    "\n",
    "#Finding the minimum value in a list\n",
    "nums = [23,22,44,17,77,55,1,65,82,2]\n",
    "num_min = min(nums)\n",
    "print(num_min)"
   ]
  },
  {
   "cell_type": "code",
   "execution_count": 7,
   "id": "4b5f2d27",
   "metadata": {},
   "outputs": [
    {
     "name": "stdout",
     "output_type": "stream",
     "text": [
      "82\n"
     ]
    }
   ],
   "source": [
    "#Finding the maximum value in a list\n",
    "print(max(nums))"
   ]
  },
  {
   "cell_type": "code",
   "execution_count": 8,
   "id": "115176e1",
   "metadata": {},
   "outputs": [
    {
     "name": "stdout",
     "output_type": "stream",
     "text": [
      "388\n"
     ]
    }
   ],
   "source": [
    "#Finding the sum of all values in a list\n",
    "print(sum(nums))"
   ]
  },
  {
   "cell_type": "code",
   "execution_count": 10,
   "id": "29563d3d",
   "metadata": {},
   "outputs": [
    {
     "name": "stdout",
     "output_type": "stream",
     "text": [
      " first three:\t ['Red', 'Blue', 'green'] \n",
      " Middle three:\t ['Blue', 'green', 'Black'] \n",
      " last three:\t ['green', 'Black', 'White']\n"
     ]
    }
   ],
   "source": [
    "# Slicing a list\n",
    "\n",
    "colors = ['Red', 'Blue', 'green', 'Black', 'White']\n",
    "\n",
    "# Getting the first three items\n",
    "first_three = colors[:3]\n",
    "\n",
    "# Getting the middle three items\n",
    "middle_three = colors[1:4]\n",
    "\n",
    "# Getting the last three items\n",
    "last_three = colors[-3:]\n",
    "\n",
    "print(\" first three:\\t\", first_three, \"\\n Middle three:\\t\", \n",
    "      middle_three, \"\\n last three:\\t\", last_three)"
   ]
  },
  {
   "cell_type": "code",
   "execution_count": 11,
   "id": "9aaafed6",
   "metadata": {},
   "outputs": [
    {
     "name": "stdout",
     "output_type": "stream",
     "text": [
      "['Red', 'Blue', 'green', 'Black', 'White']\n"
     ]
    }
   ],
   "source": [
    "# Copying a list\n",
    "\n",
    "# Making copy of a list\n",
    "\n",
    "colors = ['Red', 'Blue', 'green', 'Black', 'White']\n",
    "\n",
    "copy_of_colors = colors[:]\n",
    "print(copy_of_colors)"
   ]
  },
  {
   "cell_type": "code",
   "execution_count": 12,
   "id": "53693cfa",
   "metadata": {},
   "outputs": [
    {
     "name": "stdout",
     "output_type": "stream",
     "text": [
      "[1, 4, 9, 16, 25, 36, 49, 64, 81, 100]\n"
     ]
    }
   ],
   "source": [
    "# List of comprehensions:\n",
    "\n",
    "# Using a loop to generate a list of square numbers\n",
    "\n",
    "squr = []\n",
    "for x in range(1, 11):\n",
    "    sq = x ** 2\n",
    "    squr.append(sq)\n",
    "print(squr)"
   ]
  },
  {
   "cell_type": "code",
   "execution_count": 13,
   "id": "f986d704",
   "metadata": {},
   "outputs": [
    {
     "name": "stdout",
     "output_type": "stream",
     "text": [
      "[1, 4, 9, 16, 25, 36, 49, 64, 81, 100]\n"
     ]
    }
   ],
   "source": [
    "# Using a comprehension to generate a list of square numbers\n",
    "\n",
    "squr = [x ** 2 for x in range(1, 11)]\n",
    "print(squr)"
   ]
  },
  {
   "cell_type": "code",
   "execution_count": 14,
   "id": "6ebb9e8b",
   "metadata": {},
   "outputs": [
    {
     "name": "stdout",
     "output_type": "stream",
     "text": [
      "['RED', 'BLUE', 'GREEN', 'BLACK', 'WHITE']\n"
     ]
    }
   ],
   "source": [
    "# Using a loop to convert a list of names to upper case\n",
    "\n",
    "colors = ['Red', 'Blue', 'green', 'Black', 'White']\n",
    "upper_cols = []\n",
    "for cols in colors:\n",
    "    upper_cols.append(cols.upper())\n",
    "print(upper_cols)"
   ]
  },
  {
   "cell_type": "code",
   "execution_count": 18,
   "id": "b7411b29",
   "metadata": {},
   "outputs": [
    {
     "name": "stdout",
     "output_type": "stream",
     "text": [
      "['RED', 'BLUE', 'GREEN', 'BLACK', 'WHITE']\n"
     ]
    }
   ],
   "source": [
    "# Using a comprehension to convert a list of names to upper case\n",
    "\n",
    "colors = ['Red', 'Blue', 'green', 'Black', 'White']\n",
    "upper_cols = [cols.upper() for cols in colors]\n",
    "print(upper_cols)"
   ]
  },
  {
   "cell_type": "code",
   "execution_count": 23,
   "id": "40cc58d8",
   "metadata": {},
   "outputs": [
    {
     "name": "stdout",
     "output_type": "stream",
     "text": [
      "[(1, 2, 3), ('X', 'Y', 'Z', 'A')]\n",
      "2\n",
      "4\n"
     ]
    }
   ],
   "source": [
    "# Length of Tuple inside list\n",
    "\n",
    "list2 = [(1, 2, 3), ('X', 'Y', 'Z', 'A')]\n",
    "print(list2)\n",
    "print(len(list2))\n",
    "print(len(list2[1]))"
   ]
  },
  {
   "cell_type": "code",
   "execution_count": 45,
   "id": "c332e428",
   "metadata": {},
   "outputs": [
    {
     "name": "stdout",
     "output_type": "stream",
     "text": [
      "6\n",
      "y\n",
      "N\n"
     ]
    }
   ],
   "source": [
    "# Length ,Max, Min of the Tuple (based on Ascii value)\n",
    "\n",
    "tup1 = (1, 2, 3, 'x', 'y', 'm')\n",
    "tup2 = ('x', 'y', 'm', 'N')\n",
    "print(len(tup1))\n",
    "print(max(tup2))\n",
    "print(min(tup2))"
   ]
  },
  {
   "cell_type": "code",
   "execution_count": 51,
   "id": "f00e6b65",
   "metadata": {},
   "outputs": [
    {
     "name": "stdout",
     "output_type": "stream",
     "text": [
      "(1, 2, 3, 'x', 'y', 'm', 1, 2, 3, 'x', 'y', 'm')\n",
      "True\n"
     ]
    }
   ],
   "source": [
    "# Multiplication\n",
    "\n",
    "tup1 = (1, 2, 3, 'x', 'y', 'm')\n",
    "print(tup1 * 2)\n",
    "print('x' in tup1)"
   ]
  },
  {
   "cell_type": "code",
   "execution_count": 55,
   "id": "9c598bf6",
   "metadata": {},
   "outputs": [
    {
     "name": "stdout",
     "output_type": "stream",
     "text": [
      "(10, 20, 30, 30, 30)\n"
     ]
    }
   ],
   "source": [
    "# Multiply one element\n",
    "# here 30 is 3 times\n",
    "\n",
    "tup1 = (10, 20, 30)\n",
    "tup2 = tup1[:2]\n",
    "tup3 = tup1[2:]*3\n",
    "tup1 = tup2 + tup3\n",
    "print(tup1)"
   ]
  },
  {
   "cell_type": "code",
   "execution_count": 65,
   "id": "35f215ad",
   "metadata": {},
   "outputs": [
    {
     "name": "stdout",
     "output_type": "stream",
     "text": [
      "(1, 2, 3, 4, 5, 6)\n"
     ]
    }
   ],
   "source": [
    "# Del Tuple\n",
    "tup1 = (1, 2, 3)\n",
    "tup2 = (4, 5, 6)\n",
    "tup3 = tup1 + tup2\n",
    "print(tup3)\n",
    "del(tup2)\n",
    "\n",
    "# print(tup2)"
   ]
  },
  {
   "cell_type": "code",
   "execution_count": 72,
   "id": "4a6894fc",
   "metadata": {},
   "outputs": [
    {
     "name": "stdout",
     "output_type": "stream",
     "text": [
      "([5, 6, 7], [10, 11, 12], 13, 14)\n",
      "<class 'tuple'>\n",
      "<class 'list'>\n",
      "([5, 6, 7], [10, [10, 15, 14], 12], 13, 14)\n"
     ]
    }
   ],
   "source": [
    "# Update List inside TUple\n",
    "\n",
    "tup2 = ([5, 6, 7], [10, 11, 12], 13, 14)\n",
    "print(tup2)\n",
    "print(type(tup2))\n",
    "print(type(tup2[0]))\n",
    "# tup2[1] = [10, 15, 14] - Error\n",
    "tup2[1][1] = [10, 15, 14]\n",
    "print(tup2)"
   ]
  },
  {
   "cell_type": "code",
   "execution_count": 79,
   "id": "e8d563e3",
   "metadata": {},
   "outputs": [
    {
     "name": "stdout",
     "output_type": "stream",
     "text": [
      "(10, 11, 12) <class 'tuple'>\n",
      "[10, 11, 12] <class 'list'>\n"
     ]
    }
   ],
   "source": [
    "# COnvert list to Tuple\n",
    "\n",
    "Tup2 = (10, 11, 12)\n",
    "print(Tup2, type(Tup2))\n",
    "List3 = list(Tup2)\n",
    "print(list3, type(list3))"
   ]
  },
  {
   "cell_type": "code",
   "execution_count": 86,
   "id": "af67be6d",
   "metadata": {},
   "outputs": [
    {
     "name": "stdout",
     "output_type": "stream",
     "text": [
      "8\n",
      "o\n",
      "od Day\n",
      "True\n"
     ]
    }
   ],
   "source": [
    "# String Operation\n",
    "\n",
    "x = 'Good Day'\n",
    "print(len(x))\n",
    "print(x[2])\n",
    "print(x[2:8])\n",
    "print('o' in x)"
   ]
  },
  {
   "cell_type": "code",
   "execution_count": 89,
   "id": "68d3256c",
   "metadata": {},
   "outputs": [
    {
     "name": "stdout",
     "output_type": "stream",
     "text": [
      "8\n",
      "o\n",
      "('o', 'd', ' ', 'D', 'a', 'y')\n",
      "True\n"
     ]
    }
   ],
   "source": [
    "x = ('G', 'o', 'o', 'd', ' ', 'D', 'a', 'y')\n",
    "print(len(x))\n",
    "print(x[2])\n",
    "print(x[2:8])\n",
    "print('o' in x)"
   ]
  },
  {
   "cell_type": "code",
   "execution_count": 90,
   "id": "8e96c2c4",
   "metadata": {},
   "outputs": [
    {
     "name": "stdout",
     "output_type": "stream",
     "text": [
      "Welcome to Python Training\n"
     ]
    }
   ],
   "source": [
    "# %s\n",
    "\n",
    "a = 'Python'\n",
    "b = 'Training'\n",
    "print('Welcome to %s %s' %(a, b))"
   ]
  },
  {
   "cell_type": "code",
   "execution_count": 93,
   "id": "560cce7b",
   "metadata": {},
   "outputs": [
    {
     "name": "stdout",
     "output_type": "stream",
     "text": [
      "Python Python \n",
      "Python Training\n"
     ]
    }
   ],
   "source": [
    "a = 'Python '\n",
    "print(a *2)\n",
    "aa = a[0:10] + 'Training'\n",
    "print(aa)"
   ]
  },
  {
   "cell_type": "code",
   "execution_count": 96,
   "id": "97373b1f",
   "metadata": {},
   "outputs": [
    {
     "name": "stdout",
     "output_type": "stream",
     "text": [
      "5\n",
      "6\n"
     ]
    }
   ],
   "source": [
    "# Find position D\n",
    "\n",
    "str1 = 'Good Day'\n",
    "print(str1.find('D'))\n",
    "print(str1.find('D')+1)"
   ]
  },
  {
   "cell_type": "code",
   "execution_count": 108,
   "id": "7c74d65e",
   "metadata": {},
   "outputs": [
    {
     "name": "stdout",
     "output_type": "stream",
     "text": [
      "{'M', 'g', 'i', 'G', 'r', 'o', 'n', ' ', 'd'}\n"
     ]
    }
   ],
   "source": [
    "# Example set\n",
    "x = set('Good Morning')\n",
    "print(x)"
   ]
  },
  {
   "cell_type": "code",
   "execution_count": 112,
   "id": "bdb14a5e",
   "metadata": {},
   "outputs": [
    {
     "name": "stdout",
     "output_type": "stream",
     "text": [
      "{1, 2, 3, 4, 5, 6, 8}\n",
      "{3, 4}\n",
      "{1, 2}\n",
      "{1, 2, 3, 4, 5, 6, 8}\n"
     ]
    }
   ],
   "source": [
    "# Union in set\n",
    "\n",
    "a = {1, 2, 3, 4}\n",
    "b = {3, 4, 5, 6, 8}\n",
    "c = a | b\n",
    "print(c)\n",
    "print(a & b)\n",
    "print(a-b)"
   ]
  },
  {
   "cell_type": "code",
   "execution_count": 114,
   "id": "f87c90b7",
   "metadata": {},
   "outputs": [
    {
     "name": "stdout",
     "output_type": "stream",
     "text": [
      "John\n",
      "{'First_Name': 'John', 'Last_Name': 'Sam', 'Salary': 5000}\n"
     ]
    }
   ],
   "source": [
    "# Dictionary\n",
    "\n",
    "person = {'First_Name':'John',\n",
    "         'Last_Name': 'Sam',\n",
    "         'Salary': 5000}\n",
    "print(person['First_Name'])\n",
    "print(person)"
   ]
  },
  {
   "cell_type": "code",
   "execution_count": 134,
   "id": "d14c8105",
   "metadata": {},
   "outputs": [
    {
     "name": "stdout",
     "output_type": "stream",
     "text": [
      "{'first_name': ['John', 'Sam', 'Jim', 'Kim'], 'last_name': 'Len'}\n",
      "['John', 'Sam', 'Jim', 'Kim']\n",
      "['John', 'Sam', 'Jim', 'Kim']\n",
      "Jim\n"
     ]
    }
   ],
   "source": [
    "person = {'first_name':['John', 'Sam', 'Jim', 'Kim'], 'last_name':'Len'}\n",
    "print(person)\n",
    "print(person['first_name'])\n",
    "print(person['first_name'])\n",
    "print(person['first_name'][2])"
   ]
  },
  {
   "cell_type": "code",
   "execution_count": 128,
   "id": "6af6484a",
   "metadata": {},
   "outputs": [
    {
     "name": "stdout",
     "output_type": "stream",
     "text": [
      "['John', 'Sam', 'Jim', 'Kim']\n",
      "['John', 'Sam', 'XYZ', 'Kim']\n"
     ]
    }
   ],
   "source": [
    "person = {'first_name':['John', 'Sam', 'Jim', 'Kim'], 'last_name':'Len'}\n",
    "print(person['first_name'])\n",
    "person['first_name'][2] = 'XYZ'\n",
    "print(person['first_name'])"
   ]
  },
  {
   "cell_type": "code",
   "execution_count": 135,
   "id": "764ee1dd",
   "metadata": {},
   "outputs": [
    {
     "name": "stdout",
     "output_type": "stream",
     "text": [
      "['John', 'Sam', 'Kim']\n"
     ]
    }
   ],
   "source": [
    "# Del from Dictionary\n",
    "\n",
    "person = {'first_name':['John', 'Sam', 'Jim', 'Kim'], 'last_name':'Len'}\n",
    "del(person['first_name'][2])\n",
    "print(person['first_name'])"
   ]
  },
  {
   "cell_type": "code",
   "execution_count": 136,
   "id": "3099df03",
   "metadata": {},
   "outputs": [
    {
     "name": "stdout",
     "output_type": "stream",
     "text": [
      "None\n"
     ]
    }
   ],
   "source": [
    "# clear dictionary\n",
    "\n",
    "print(person.clear())"
   ]
  },
  {
   "cell_type": "code",
   "execution_count": 192,
   "id": "c55f5017",
   "metadata": {},
   "outputs": [
    {
     "name": "stdout",
     "output_type": "stream",
     "text": [
      "dict_keys(['first_name', 'last_name'])\n",
      "dict_values([['John', 'Sam', 'Jim', 'Kim'], 'Len'])\n",
      "dict_items([('first_name', ['John', 'Sam', 'Jim', 'Kim']), ('last_name', 'Len')])\n",
      "['John', 'Sam', 'Jim', 'Kim']\n"
     ]
    }
   ],
   "source": [
    "# Dictionary keys, values\n",
    "\n",
    "person = {'first_name':['John', 'Sam', 'Jim', 'Kim'], 'last_name':'Len'}\n",
    "print(person.keys())\n",
    "print(person.values())\n",
    "print(person.items())\n",
    "print(person.get('first_name'))"
   ]
  },
  {
   "cell_type": "code",
   "execution_count": 187,
   "id": "5093fa41",
   "metadata": {},
   "outputs": [
    {
     "name": "stdout",
     "output_type": "stream",
     "text": [
      "{'a': 1, 'b': 4, 'c': 9, 'd': 16, 'e': 25}\n"
     ]
    }
   ],
   "source": [
    "dict1 = {'a': 1, 'b': 2, 'c': 3, 'd': 4, 'e': 5}\n",
    "double_dict = {k:v ** 2 for (k, v) in dict1.items()}\n",
    "print(double_dict)"
   ]
  },
  {
   "cell_type": "code",
   "execution_count": 193,
   "id": "b6ff1c40",
   "metadata": {},
   "outputs": [
    {
     "name": "stdout",
     "output_type": "stream",
     "text": [
      "{'brand': 'Ford', 'model': 'Mustang', 'year': 1964}\n",
      "{'brand': 'Ford', 'model': 'Mustang', 'year': 1964, 'color': 'Red'}\n",
      "{'brand': 'Ford', 'model': 'Mustang', 'year': 1964}\n"
     ]
    }
   ],
   "source": [
    "# Adding New Column\n",
    "\n",
    "thisdict = {\n",
    "    \"brand\" : \"Ford\",\n",
    "    \"model\" : \"Mustang\",\n",
    "    \"year\" : 1964\n",
    "}\n",
    "\n",
    "print(thisdict)\n",
    "\n",
    "# Add\n",
    "thisdict[\"color\"] = \"Red\"\n",
    "print(thisdict)\n",
    "\n",
    "# Pop\n",
    "thisdict.pop(\"color\")\n",
    "print(thisdict)"
   ]
  },
  {
   "cell_type": "code",
   "execution_count": 171,
   "id": "5d9a94c2",
   "metadata": {},
   "outputs": [
    {
     "name": "stdout",
     "output_type": "stream",
     "text": [
      "{'brand': 'Ford', 'model': 'Mustang', 'year': 1964}\n"
     ]
    }
   ],
   "source": [
    "# Copy to dictionary\n",
    "\n",
    "thisdict = {\n",
    "    \"brand\" : \"Ford\",\n",
    "    \"model\" : \"Mustang\",\n",
    "    \"year\" : 1964\n",
    "}\n",
    "mydict = thisdict.copy()\n",
    "print(mydict)"
   ]
  },
  {
   "cell_type": "code",
   "execution_count": 175,
   "id": "fb40eceb",
   "metadata": {},
   "outputs": [
    {
     "name": "stdout",
     "output_type": "stream",
     "text": [
      "{'child1': {'name': 'Emmail', 'year': 2004}, 'child2': {'name': 'Youtube', 'year': 2007}, 'child3': {'name': 'Google', 'year': 2010}}\n"
     ]
    }
   ],
   "source": [
    "# Nested dictionary\n",
    "\n",
    "myFamily = {\n",
    "    \"child1\":{\n",
    "        \"name\":\"Emmail\",\n",
    "        \"year\": 2004\n",
    "    },\n",
    "    \"child2\":{\n",
    "        \"name\":\"Youtube\",\n",
    "        \"year\": 2007\n",
    "    },\n",
    "    \"child3\":{\n",
    "        \"name\": \"Google\",\n",
    "        \"year\" : 2010\n",
    "    }\n",
    "}\n",
    "\n",
    "print(myFamily)"
   ]
  },
  {
   "cell_type": "code",
   "execution_count": 179,
   "id": "fb021b34",
   "metadata": {},
   "outputs": [
    {
     "name": "stdout",
     "output_type": "stream",
     "text": [
      "Values\n",
      " dict_values([{'name': 'Emmail', 'year': 2004}, {'name': 'Youtube', 'year': 2007}, {'name': 'Google', 'year': 2010}])\n"
     ]
    }
   ],
   "source": [
    "print('Values\\n', myFamily.values())"
   ]
  },
  {
   "cell_type": "code",
   "execution_count": 180,
   "id": "ecb1acf3",
   "metadata": {},
   "outputs": [
    {
     "name": "stdout",
     "output_type": "stream",
     "text": [
      "Items:\n",
      " dict_items([('child1', {'name': 'Emmail', 'year': 2004}), ('child2', {'name': 'Youtube', 'year': 2007}), ('child3', {'name': 'Google', 'year': 2010})])\n"
     ]
    }
   ],
   "source": [
    "print('Items:\\n', myFamily.items())"
   ]
  },
  {
   "cell_type": "code",
   "execution_count": 185,
   "id": "f5e16d68",
   "metadata": {},
   "outputs": [
    {
     "name": "stdout",
     "output_type": "stream",
     "text": [
      "Hello John, Your Order id is AA123\n",
      "Hello Sam, Your Order id is AAA110\n",
      "Hello Rick, Your Order id is BBB111\n",
      "Hello Jim, Your Order id is BBB123\n",
      "Hello Ken, Your Order id is CCC100\n"
     ]
    }
   ],
   "source": [
    "# Loop Exampe\n",
    "customer_name = ['John','Sam','Rick','Jim', 'Ken']\n",
    "order_id = ['AA123','AAA110','BBB111','BBB123','CCC100']\n",
    "\n",
    "\n",
    "for (c, o) in zip(customer_name, order_id):\n",
    "    print('Hello %s, Your Order id is %s' %(c, o))"
   ]
  },
  {
   "cell_type": "code",
   "execution_count": 186,
   "id": "a0d6a82b",
   "metadata": {},
   "outputs": [
    {
     "name": "stdout",
     "output_type": "stream",
     "text": [
      "{'Chennai': 5000, 'Mumbai': 8000, 'Delhi': 10000, 'Kolkata': 7500}\n"
     ]
    }
   ],
   "source": [
    "# Example of zip()\n",
    "\n",
    "city = ['Chennai', 'Mumbai', 'Delhi', 'Kolkata']\n",
    "population = [5000, 8000, 10000, 7500]\n",
    "\n",
    "new_dict = {\n",
    "    city:population for city, population in zip(city, population)\n",
    "}\n",
    "\n",
    "print(new_dict)"
   ]
  },
  {
   "cell_type": "code",
   "execution_count": 196,
   "id": "a309d187",
   "metadata": {},
   "outputs": [
    {
     "name": "stdout",
     "output_type": "stream",
     "text": [
      "20000\n"
     ]
    }
   ],
   "source": [
    "# Functions\n",
    "\n",
    "def Sales():\n",
    "    Total_Sales = 200 * 100\n",
    "    print(Total_Sales)\n",
    "    \n",
    "Sales()"
   ]
  },
  {
   "cell_type": "code",
   "execution_count": 201,
   "id": "fff87445",
   "metadata": {},
   "outputs": [
    {
     "name": "stdout",
     "output_type": "stream",
     "text": [
      "5000\n",
      "1000\n"
     ]
    }
   ],
   "source": [
    "def Sales(Qty = 10):\n",
    "    Total_sales = Qty * 100\n",
    "    print(Total_sales)\n",
    "    \n",
    "Sales(50)\n",
    "Sales()"
   ]
  },
  {
   "cell_type": "code",
   "execution_count": 204,
   "id": "add36f77",
   "metadata": {},
   "outputs": [
    {
     "name": "stdout",
     "output_type": "stream",
     "text": [
      "1000\n"
     ]
    }
   ],
   "source": [
    "def Sales(Qty, prc):\n",
    "    Total_sales = Qty * prc\n",
    "    print(Total_sales)\n",
    "    \n",
    "Sales(50, 20)"
   ]
  },
  {
   "cell_type": "code",
   "execution_count": 207,
   "id": "7586aa81",
   "metadata": {},
   "outputs": [
    {
     "name": "stdout",
     "output_type": "stream",
     "text": [
      "1000\n"
     ]
    }
   ],
   "source": [
    "def Sales(Prc, Qty = 10):\n",
    "    Total_sales = (Qty * Prc)\n",
    "    print(Total_sales)\n",
    "    \n",
    "Sales(50, 20)"
   ]
  },
  {
   "cell_type": "code",
   "execution_count": 213,
   "id": "503fb98f",
   "metadata": {},
   "outputs": [
    {
     "name": "stdout",
     "output_type": "stream",
     "text": [
      "1000\n",
      "None\n",
      "10000\n",
      "None\n"
     ]
    }
   ],
   "source": [
    "def Sales(Prc = 50, Qty = 10):\n",
    "    Total_sales = Qty * 100\n",
    "    print(Total_sales)\n",
    "    \n",
    "print(Sales())\n",
    "print(Sales(200, 100))"
   ]
  },
  {
   "cell_type": "code",
   "execution_count": 214,
   "id": "019751ba",
   "metadata": {},
   "outputs": [
    {
     "name": "stdout",
     "output_type": "stream",
     "text": [
      "40000\n"
     ]
    }
   ],
   "source": [
    "def Sales(Prc = 50, Qty = 10):\n",
    "    Total_sales = (Qty * Prc)\n",
    "    return(Total_sales)\n",
    "    \n",
    "x = Sales(200, 200)\n",
    "print(x)"
   ]
  },
  {
   "cell_type": "code",
   "execution_count": 227,
   "id": "86b0303f",
   "metadata": {},
   "outputs": [
    {
     "name": "stdout",
     "output_type": "stream",
     "text": [
      "(100, 0.1)\n"
     ]
    }
   ],
   "source": [
    "def financials(revenue, expenses):\n",
    "    \"\"\" This function is used to calculate profit and profit ratio\"\"\"\n",
    "    \n",
    "    profit = revenue - expenses\n",
    "    profit_ratio = profit / revenue\n",
    "    new_financials = (profit, profit_ratio)\n",
    "    return(new_financials)\n",
    "\n",
    "f = financials(1000, 900)\n",
    "print(f)"
   ]
  },
  {
   "cell_type": "code",
   "execution_count": 236,
   "id": "75308325",
   "metadata": {},
   "outputs": [
    {
     "name": "stdout",
     "output_type": "stream",
     "text": [
      "Profit:\t\t 100 \n",
      "Profit Ratio:\t 0.1\n"
     ]
    }
   ],
   "source": [
    "print('Profit:\\t\\t %s \\nProfit Ratio:\\t %s' %(f[0], f[1]))"
   ]
  },
  {
   "cell_type": "code",
   "execution_count": 239,
   "id": "b3f6b6c2",
   "metadata": {},
   "outputs": [
    {
     "name": "stdout",
     "output_type": "stream",
     "text": [
      "temprature in Faranheit is:\t 100.4\n"
     ]
    }
   ],
   "source": [
    "# celsius to faharenheit\n",
    "\n",
    "def Convertto(deg):\n",
    "    F = (deg*9/5)+32\n",
    "    return(F)\n",
    "\n",
    "temp = 38\n",
    "temp = Convertto(temp)\n",
    "print('temprature in Faranheit is:\\t',temp)"
   ]
  },
  {
   "cell_type": "code",
   "execution_count": 252,
   "id": "17f35651",
   "metadata": {},
   "outputs": [
    {
     "name": "stdout",
     "output_type": "stream",
     "text": [
      "2\n",
      "3\n"
     ]
    }
   ],
   "source": [
    "# Questions & Answers\n",
    "\n",
    "# Que. 1) Write a python program to count the number 4 in a given list\n",
    "\n",
    "def list_count_4(nums):\n",
    "    count = 0\n",
    "    for num in nums:\n",
    "        if num == 4:\n",
    "            count = count+ 1\n",
    "    return count\n",
    "\n",
    "print(list_count_4([1, 4, 6, 7, 4]))\n",
    "print(list_count_4([1, 4, 6, 7, 4, 4]))"
   ]
  },
  {
   "cell_type": "code",
   "execution_count": 256,
   "id": "4a9a2e55",
   "metadata": {},
   "outputs": [
    {
     "name": "stdout",
     "output_type": "stream",
     "text": [
      "True\n"
     ]
    }
   ],
   "source": [
    "# Que. 2) Write a python program to test whether a passed letter \n",
    "# is vowel or not\n",
    "\n",
    "def is_Vowel(char):\n",
    "    all_vowels = 'aeiou'\n",
    "    return char in all_vowels\n",
    "\n",
    "print(is_Vowel('i'))"
   ]
  },
  {
   "cell_type": "code",
   "execution_count": 258,
   "id": "59294036",
   "metadata": {},
   "outputs": [
    {
     "name": "stdout",
     "output_type": "stream",
     "text": [
      "True\n",
      "False\n"
     ]
    }
   ],
   "source": [
    "# Que. 3) Write a python program to check whether a specified value is\n",
    "# contained in a group of values\n",
    "# Test Data:\n",
    "# 3 -> [1, 5, 8, 3] : True\n",
    "# -1 -> [1, 5, 8, 3] : False\n",
    "\n",
    "def is_group_member(group_data, n):\n",
    "    for value in group_data:\n",
    "        if n == value:\n",
    "            return True\n",
    "    return False\n",
    "\n",
    "print(is_group_member([1, 5, 8, 3], 3))\n",
    "print(is_group_member([1, 5, 8, 3], -1))"
   ]
  },
  {
   "cell_type": "code",
   "execution_count": 272,
   "id": "fe54fa33",
   "metadata": {},
   "outputs": [
    {
     "name": "stdout",
     "output_type": "stream",
     "text": [
      "@@\n",
      "@@@\n",
      "@@@@@@\n",
      "@@@@@\n"
     ]
    }
   ],
   "source": [
    "# Que. 4) Write a python program to create histogram from a given \n",
    "# list of integer\n",
    "\n",
    "def histogram(items):\n",
    "    for n in items:\n",
    "        output = ''\n",
    "        times = n\n",
    "        while (times>0):\n",
    "            output += '@'\n",
    "            times = times -1\n",
    "        print(output)\n",
    "\n",
    "histogram([2, 3, 6, 5])"
   ]
  },
  {
   "cell_type": "code",
   "execution_count": 276,
   "id": "3f1868cc",
   "metadata": {},
   "outputs": [
    {
     "name": "stdout",
     "output_type": "stream",
     "text": [
      "15122\n"
     ]
    }
   ],
   "source": [
    "# Que. 5) Write a python program to concatenate all elements \n",
    "# in a list into a string and return it\n",
    "\n",
    "def concatenate_list_data(list):\n",
    "    result = ''\n",
    "    for element in list:\n",
    "        result += str(element)\n",
    "    return result\n",
    "\n",
    "print(concatenate_list_data([1, 5, 12, 2]))"
   ]
  },
  {
   "cell_type": "code",
   "execution_count": 282,
   "id": "0bc644f0",
   "metadata": {},
   "outputs": [
    {
     "name": "stdout",
     "output_type": "stream",
     "text": [
      "Enter The Base:\t\t5\n",
      "Enter The Height:\t10\n",
      "ares is:\t\t 25.0\n"
     ]
    }
   ],
   "source": [
    "# Que. 6) Write a python program that will accept the base and height of a \n",
    "# triangle and compute the area\n",
    "# A = (h(b)b)/2\n",
    "\n",
    "b = int(input(\"Enter The Base:\\t\\t\"))\n",
    "h = int(input(\"Enter The Height:\\t\"))\n",
    "\n",
    "area = b*h/2\n",
    "print(\"ares is:\\t\\t\", area)"
   ]
  },
  {
   "cell_type": "code",
   "execution_count": 285,
   "id": "99c36b98",
   "metadata": {},
   "outputs": [
    {
     "name": "stdout",
     "output_type": "stream",
     "text": [
      "0\n",
      "0\n",
      "0\n",
      "6\n",
      "12\n"
     ]
    }
   ],
   "source": [
    "# Que. 7) Write a python program to sum of three given integers. However, if\n",
    "# two values are equal sum will be zero\n",
    "\n",
    "def sum(x, y, z):\n",
    "    if x == y or y == z or x == z:\n",
    "        sum = 0\n",
    "    else:\n",
    "        sum = x + y + z\n",
    "    return sum\n",
    "\n",
    "print(sum(2, 1, 2))\n",
    "print(sum(3, 2, 2))\n",
    "print(sum(2, 2, 2))\n",
    "print(sum(1, 2, 3)) \n",
    "print(sum(5, 4, 3)) "
   ]
  },
  {
   "cell_type": "code",
   "execution_count": 288,
   "id": "5c0e9162",
   "metadata": {},
   "outputs": [
    {
     "name": "stdout",
     "output_type": "stream",
     "text": [
      "20\n",
      "12\n",
      "22\n"
     ]
    }
   ],
   "source": [
    "# Que. 8) Write a python program to sum of two given integers. However, if\n",
    "# the sum is between 15 to 20 it will return 20\n",
    "\n",
    "def sum(x, y):\n",
    "    sum = x + y\n",
    "    if sum in range(15,20):\n",
    "        return 20\n",
    "    else:\n",
    "        return sum\n",
    "    \n",
    "print(sum(10, 6))\n",
    "print(sum(10, 2))\n",
    "print(sum(10, 12))"
   ]
  },
  {
   "cell_type": "code",
   "execution_count": 290,
   "id": "f144ee37",
   "metadata": {},
   "outputs": [
    {
     "name": "stdout",
     "output_type": "stream",
     "text": [
      "True\n",
      "True\n",
      "True\n",
      "False\n"
     ]
    }
   ],
   "source": [
    "# Que. 9) Write a python program that will return true if the two given \n",
    "# integer values are equal or their sum or difference is 5\n",
    "\n",
    "def test_number5(x, y):\n",
    "    if x == y or abs(x-y) ==5 or (x+y) == 5:\n",
    "        return True\n",
    "    else:\n",
    "        return False\n",
    "print(test_number5(7, 2))\n",
    "print(test_number5(3, 2))\n",
    "print(test_number5(2, 2))\n",
    "print(test_number5(7, 10))"
   ]
  },
  {
   "cell_type": "code",
   "execution_count": 293,
   "id": "9fd54e16",
   "metadata": {},
   "outputs": [
    {
     "name": "stdout",
     "output_type": "stream",
     "text": [
      "6.324555320336759\n"
     ]
    }
   ],
   "source": [
    "# Que. 10) Write a python program to compute the distance between the \n",
    "# points (x1, y1) and (x2, y2)\n",
    "\n",
    "import math\n",
    "\n",
    "p1 = [4, 0]\n",
    "p2 = [6, 6]\n",
    "distance = math.sqrt(((p1[0] - p2[0]) ** 2) + ((p1[1] - p2[1])** 2))\n",
    "\n",
    "print(distance)"
   ]
  },
  {
   "cell_type": "code",
   "execution_count": null,
   "id": "e52a84be",
   "metadata": {},
   "outputs": [],
   "source": []
  },
  {
   "cell_type": "code",
   "execution_count": null,
   "id": "46da7372",
   "metadata": {},
   "outputs": [],
   "source": []
  },
  {
   "cell_type": "code",
   "execution_count": null,
   "id": "1b6ee9c6",
   "metadata": {},
   "outputs": [],
   "source": []
  },
  {
   "cell_type": "code",
   "execution_count": null,
   "id": "552404e5",
   "metadata": {},
   "outputs": [],
   "source": []
  },
  {
   "cell_type": "code",
   "execution_count": null,
   "id": "467cb724",
   "metadata": {},
   "outputs": [],
   "source": []
  },
  {
   "cell_type": "code",
   "execution_count": null,
   "id": "3409a1d9",
   "metadata": {},
   "outputs": [],
   "source": []
  },
  {
   "cell_type": "code",
   "execution_count": null,
   "id": "82c76fe9",
   "metadata": {},
   "outputs": [],
   "source": []
  },
  {
   "cell_type": "code",
   "execution_count": null,
   "id": "487a3bef",
   "metadata": {},
   "outputs": [],
   "source": []
  },
  {
   "cell_type": "code",
   "execution_count": null,
   "id": "a68991f2",
   "metadata": {},
   "outputs": [],
   "source": []
  },
  {
   "cell_type": "code",
   "execution_count": null,
   "id": "6828fcde",
   "metadata": {},
   "outputs": [],
   "source": []
  },
  {
   "cell_type": "code",
   "execution_count": null,
   "id": "bc9874c6",
   "metadata": {},
   "outputs": [],
   "source": []
  },
  {
   "cell_type": "code",
   "execution_count": null,
   "id": "f5f0a17c",
   "metadata": {},
   "outputs": [],
   "source": []
  },
  {
   "cell_type": "code",
   "execution_count": null,
   "id": "0d619b27",
   "metadata": {},
   "outputs": [],
   "source": []
  },
  {
   "cell_type": "code",
   "execution_count": null,
   "id": "d5c927a1",
   "metadata": {},
   "outputs": [],
   "source": []
  }
 ],
 "metadata": {
  "kernelspec": {
   "display_name": "Python 3 (ipykernel)",
   "language": "python",
   "name": "python3"
  },
  "language_info": {
   "codemirror_mode": {
    "name": "ipython",
    "version": 3
   },
   "file_extension": ".py",
   "mimetype": "text/x-python",
   "name": "python",
   "nbconvert_exporter": "python",
   "pygments_lexer": "ipython3",
   "version": "3.10.9"
  }
 },
 "nbformat": 4,
 "nbformat_minor": 5
}
