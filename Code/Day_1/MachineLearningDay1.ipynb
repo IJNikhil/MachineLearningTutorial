{
 "cells": [
  {
   "cell_type": "code",
   "execution_count": 1,
   "id": "3cbe96d9",
   "metadata": {},
   "outputs": [
    {
     "name": "stdout",
     "output_type": "stream",
     "text": [
      "Hello\n"
     ]
    }
   ],
   "source": [
    "#Comment\n",
    "\n",
    "print('Hello')"
   ]
  },
  {
   "cell_type": "code",
   "execution_count": 11,
   "id": "48e47261",
   "metadata": {},
   "outputs": [
    {
     "name": "stdout",
     "output_type": "stream",
     "text": [
      "value of a:\t 10\n",
      "value of b:\t Hello\n",
      "value of a:\t 10 \n",
      " value of b:\t Hello\n"
     ]
    }
   ],
   "source": [
    "a = 10\n",
    "b = 'Hello'\n",
    "\n",
    "print(\"value of a:\\t\",a)\n",
    "print(\"value of b:\\t\",b)\n",
    "print(\"value of a:\\t\",a,'\\n','value of b:\\t',b)"
   ]
  },
  {
   "cell_type": "code",
   "execution_count": 13,
   "id": "97443df0",
   "metadata": {},
   "outputs": [
    {
     "name": "stdout",
     "output_type": "stream",
     "text": [
      "value of z:\t Hello\n"
     ]
    }
   ],
   "source": [
    "x, y, z = 10, 12, 'Hello'\n",
    "print(\"value of z:\\t\",z)"
   ]
  },
  {
   "cell_type": "code",
   "execution_count": 12,
   "id": "ad0047a7",
   "metadata": {},
   "outputs": [
    {
     "name": "stdout",
     "output_type": "stream",
     "text": [
      "result of A + b:\t (19+10j)\n"
     ]
    }
   ],
   "source": [
    "A = 10+6j\n",
    "B = 9+4j\n",
    "print(\"result of A + b:\\t\",A + B)"
   ]
  },
  {
   "cell_type": "code",
   "execution_count": 7,
   "id": "95ce5bc0",
   "metadata": {},
   "outputs": [
    {
     "name": "stdout",
     "output_type": "stream",
     "text": [
      "result of a and b:\t 15\n",
      "result of a or b:\t 10\n",
      "result of !a:\t\t False\n"
     ]
    }
   ],
   "source": [
    "# Logical Operator\n",
    "\n",
    "a = 10\n",
    "b = 15\n",
    "\n",
    "print(\"result of a and b:\\t\",a and b)\n",
    "print(\"result of a or b:\\t\",a or b)\n",
    "print(\"result of !a:\\t\\t\",not a)"
   ]
  },
  {
   "cell_type": "code",
   "execution_count": 14,
   "id": "178fe5dd",
   "metadata": {},
   "outputs": [
    {
     "name": "stdout",
     "output_type": "stream",
     "text": [
      "result of bitwise a & b:\t 8\n"
     ]
    }
   ],
   "source": [
    "#Binary AND operator\n",
    "\n",
    "#Example 1\n",
    "a = 12\n",
    "b = 25\n",
    "\n",
    "print('result of bitwise a & b:\\t', (a&b))"
   ]
  },
  {
   "cell_type": "code",
   "execution_count": 16,
   "id": "3cb4b80f",
   "metadata": {},
   "outputs": [
    {
     "name": "stdout",
     "output_type": "stream",
     "text": [
      "result of bitwise a & b:\t 12\n"
     ]
    }
   ],
   "source": [
    "#Binary AND operator\n",
    "\n",
    "#Example 2\n",
    "a = 60\n",
    "b = 13\n",
    "\n",
    "c = a & b\n",
    "\n",
    "print('result of bitwise a & b:\\t', c)"
   ]
  },
  {
   "cell_type": "code",
   "execution_count": 17,
   "id": "f90fa3ee",
   "metadata": {},
   "outputs": [
    {
     "name": "stdout",
     "output_type": "stream",
     "text": [
      "result of bitwise a | b:\t 61\n"
     ]
    }
   ],
   "source": [
    "#Bitwise OR Operator\n",
    "\n",
    "a = 60\n",
    "b = 13\n",
    "\n",
    "c = a | b\n",
    "\n",
    "print('result of bitwise a | b:\\t', c)"
   ]
  },
  {
   "cell_type": "code",
   "execution_count": 18,
   "id": "3ef600eb",
   "metadata": {},
   "outputs": [
    {
     "name": "stdout",
     "output_type": "stream",
     "text": [
      "result of bitwise a ^ b:\t 49\n"
     ]
    }
   ],
   "source": [
    "#Bitwise XOR Operator\n",
    "\n",
    "a = 60\n",
    "b = 13\n",
    "\n",
    "c = a ^ b\n",
    "\n",
    "print('result of bitwise a ^ b:\\t', c)"
   ]
  },
  {
   "cell_type": "code",
   "execution_count": 20,
   "id": "ede67050",
   "metadata": {},
   "outputs": [
    {
     "name": "stdout",
     "output_type": "stream",
     "text": [
      "result of bitwise ~a: -61\n",
      "result of bitwise ~b: -14\n"
     ]
    }
   ],
   "source": [
    "#Bitwise NOT Operator\n",
    "\n",
    "a = 60\n",
    "b = 13\n",
    "\n",
    "c = ~a\n",
    "d = ~b\n",
    "\n",
    "print('result of bitwise ~a:', c)\n",
    "print('result of bitwise ~b:', d)"
   ]
  },
  {
   "cell_type": "code",
   "execution_count": 21,
   "id": "512c63ea",
   "metadata": {},
   "outputs": [
    {
     "name": "stdout",
     "output_type": "stream",
     "text": [
      "result of bitwise a<<2: 240\n",
      "result of bitwise b<<2: 52\n"
     ]
    }
   ],
   "source": [
    "#Bitwise LEFT SHIFT Operator\n",
    "\n",
    "a = 60\n",
    "b = 13\n",
    "\n",
    "c = a<<2\n",
    "d = b<<2\n",
    "\n",
    "print('result of bitwise a<<2:', c)\n",
    "print('result of bitwise b<<2:', d)"
   ]
  },
  {
   "cell_type": "code",
   "execution_count": 22,
   "id": "bb2637a6",
   "metadata": {},
   "outputs": [
    {
     "name": "stdout",
     "output_type": "stream",
     "text": [
      "result of bitwise a<<2: 15\n",
      "result of bitwise b<<2: 3\n"
     ]
    }
   ],
   "source": [
    "#Bitwise RIGHT SHIFT Operator\n",
    "\n",
    "a = 60\n",
    "b = 13\n",
    "\n",
    "c = a>>2\n",
    "d = b>>2\n",
    "\n",
    "print('result of bitwise a>>2:', c)\n",
    "print('result of bitwise b>>2:', d)"
   ]
  },
  {
   "cell_type": "code",
   "execution_count": 23,
   "id": "4080c806",
   "metadata": {},
   "outputs": [
    {
     "name": "stdout",
     "output_type": "stream",
     "text": [
      "Result of Identify operator (x is y): False\n",
      "Result of Identify operator (x is not y): True\n"
     ]
    }
   ],
   "source": [
    "#IDENTIFY Operator (is, is not)\n",
    "\n",
    "#Example 1\n",
    "x = 100\n",
    "y = 200\n",
    "\n",
    "print('Result of Identify operator (x is y):', x is y)\n",
    "print('Result of Identify operator (x is not y):', x is not y)"
   ]
  },
  {
   "cell_type": "code",
   "execution_count": 24,
   "id": "f8d3e2fc",
   "metadata": {},
   "outputs": [
    {
     "name": "stdout",
     "output_type": "stream",
     "text": [
      "Result of Identify operator (x is y): True\n",
      "Result of Identify operator (x is not y): False\n"
     ]
    }
   ],
   "source": [
    "#IDENTIFY Operator (is, is not)\n",
    "\n",
    "#Example 1\n",
    "x = 200\n",
    "y = 200\n",
    "\n",
    "print('Result of Identify operator (x is y):', x is y)\n",
    "print('Result of Identify operator (x is not y):', x is not y)"
   ]
  },
  {
   "cell_type": "code",
   "execution_count": 25,
   "id": "4e215665",
   "metadata": {},
   "outputs": [
    {
     "name": "stdout",
     "output_type": "stream",
     "text": [
      "Result of Identify operator (100 in x): True\n",
      "Result of Identify operator (50 not in): True\n"
     ]
    }
   ],
   "source": [
    "#IDENTIFY Operator (in, not in)\n",
    " \n",
    "#Example 1\n",
    "x = [100, 200, 150]\n",
    "\n",
    "print('Result of Identify operator (100 in x):', 100 in x)\n",
    "print('Result of Identify operator (50 not in):', 50 not in x)"
   ]
  },
  {
   "cell_type": "code",
   "execution_count": 26,
   "id": "02cad4cb",
   "metadata": {},
   "outputs": [
    {
     "name": "stdout",
     "output_type": "stream",
     "text": [
      "Result of Identify operator (100 in x): True\n",
      "Result of Identify operator (50 not in): False\n"
     ]
    }
   ],
   "source": [
    "#IDENTIFY Operator (in, not in)\n",
    " \n",
    "#Example 1\n",
    "x = [100, 200, 150]\n",
    "\n",
    "print('Result of Identify operator (100 in x):', 100 in x)\n",
    "print('Result of Identify operator (50 not in):', 200 not in x)"
   ]
  },
  {
   "cell_type": "code",
   "execution_count": 27,
   "id": "4cfc2f36",
   "metadata": {},
   "outputs": [
    {
     "name": "stdout",
     "output_type": "stream",
     "text": [
      "(10, 15, 'A')\n"
     ]
    }
   ],
   "source": [
    "# Tuple\n",
    "Tuple1 = (10, 15, 'A')\n",
    "print(Tuple1)"
   ]
  },
  {
   "cell_type": "code",
   "execution_count": 28,
   "id": "9703e661",
   "metadata": {},
   "outputs": [
    {
     "name": "stdout",
     "output_type": "stream",
     "text": [
      "15\n"
     ]
    }
   ],
   "source": [
    "print(Tuple1[1])"
   ]
  },
  {
   "cell_type": "code",
   "execution_count": 36,
   "id": "8dd58811",
   "metadata": {},
   "outputs": [
    {
     "name": "stdout",
     "output_type": "stream",
     "text": [
      "List1:\t\t [[10, 15, 20], 'A', 25, (10, 15, 20)]\n",
      "List1[0]:\t [10, 15, 20]\n",
      "List1[0][1]:\t 15\n"
     ]
    }
   ],
   "source": [
    "#list\n",
    "\n",
    "List1 = [[10, 15, 20], 'A', 25,(10, 15, 20)]\n",
    "\n",
    "print('List1:\\t\\t', List1)\n",
    "print('List1[0]:\\t', List1[0])\n",
    "print('List1[0][1]:\\t', List1[0][1])"
   ]
  },
  {
   "cell_type": "code",
   "execution_count": 38,
   "id": "fc4e69eb",
   "metadata": {},
   "outputs": [
    {
     "name": "stdout",
     "output_type": "stream",
     "text": [
      "{'Age': [25, 30, 35], 'Name': ['JOhn', 'Sam', 'Jim', 'Kim']}\n",
      "<class 'dict'>\n",
      "['JOhn', 'Sam', 'Jim', 'Kim']\n"
     ]
    }
   ],
   "source": [
    "# Dictionary\n",
    "\n",
    "A = {'Age':[25,30,35], 'Name':['JOhn', 'Sam', 'Jim', 'Kim']}\n",
    "\n",
    "print(A)\n",
    "print(type(A))\n",
    "print(A['Name'])"
   ]
  },
  {
   "cell_type": "code",
   "execution_count": 39,
   "id": "9932c677",
   "metadata": {},
   "outputs": [
    {
     "name": "stdout",
     "output_type": "stream",
     "text": [
      "100  and  100  are equal\n"
     ]
    }
   ],
   "source": [
    "# IF Condition\n",
    "\n",
    "a = 100\n",
    "b = 100\n",
    "\n",
    "if a > b:\n",
    "    print(a, 'Greater than', b)\n",
    "elif b > a:\n",
    "    print(b, 'Greater than', a)\n",
    "else:\n",
    "    print(a,' and ',b,' are equal')"
   ]
  },
  {
   "cell_type": "code",
   "execution_count": 42,
   "id": "8c6b6d69",
   "metadata": {},
   "outputs": [
    {
     "name": "stdout",
     "output_type": "stream",
     "text": [
      "300 Greater than 200\n"
     ]
    }
   ],
   "source": [
    "# IF Condition Between\n",
    "\n",
    "a = 300\n",
    "if (100 <= a <=200):\n",
    "    print(a,'is between 100 and 200')\n",
    "elif a<100:\n",
    "    print(a,'less than 100')\n",
    "else:\n",
    "    print(a,'Greater than 200')"
   ]
  },
  {
   "cell_type": "code",
   "execution_count": 43,
   "id": "c57ace8f",
   "metadata": {},
   "outputs": [
    {
     "name": "stdout",
     "output_type": "stream",
     "text": [
      "40 Less than 100\n",
      "40 is between 20 and 50\n"
     ]
    }
   ],
   "source": [
    "# Nested if Condition\n",
    "\n",
    "# Example 1\n",
    "a = 40\n",
    "if a < 100:\n",
    "    print(a, 'Less than 100')\n",
    "    \n",
    "    if (50 <= a <= 100):\n",
    "        print(a, 'is between 50 and 100')\n",
    "    elif (20 <= a <= 50):\n",
    "        print(a, 'is between 20 and 50')\n",
    "    else:\n",
    "        print(a, 'is less than 20')\n",
    "elif (20 <= a <= 200):\n",
    "    print(a, 'is between 50 and 200')\n",
    "else:\n",
    "    print(a,'Greater than 200')"
   ]
  },
  {
   "cell_type": "code",
   "execution_count": 44,
   "id": "5af62702",
   "metadata": {},
   "outputs": [
    {
     "name": "stdout",
     "output_type": "stream",
     "text": [
      "150 is smaller than 200\n"
     ]
    }
   ],
   "source": [
    "# Nested if Condition\n",
    "\n",
    "# Example 1\n",
    "a = 150\n",
    "b = 200\n",
    "\n",
    "if a < b:\n",
    "    print(a, 'is smaller than', b)\n",
    "    \n",
    "    if (10 <= a <= 100):\n",
    "        print(a, 'is between 10 and 100')\n",
    "    elif (a < 10):\n",
    "        print(a, 'is less than 10')\n",
    "else:\n",
    "    print(a,'is bigger than', b)"
   ]
  },
  {
   "cell_type": "code",
   "execution_count": 45,
   "id": "3d9518bb",
   "metadata": {},
   "outputs": [],
   "source": [
    "# Assignment 1"
   ]
  },
  {
   "cell_type": "code",
   "execution_count": 48,
   "id": "ec633911",
   "metadata": {},
   "outputs": [
    {
     "name": "stdout",
     "output_type": "stream",
     "text": [
      "Python version\n",
      "3.10.9 | packaged by Anaconda, Inc. | (main, Mar  1 2023, 18:18:15) [MSC v.1916 64 bit (AMD64)]\n",
      "\n",
      "Version info.\n",
      "sys.version_info(major=3, minor=10, micro=9, releaselevel='final', serial=0)\n"
     ]
    }
   ],
   "source": [
    "# Que.1) Write a python program to get the python version you are using\n",
    "\n",
    "import sys\n",
    "print(\"Python version\")\n",
    "print(sys.version)\n",
    "print(\"\\nVersion info.\")\n",
    "print(sys.version_info)"
   ]
  },
  {
   "cell_type": "code",
   "execution_count": 49,
   "id": "ff7f1cb8",
   "metadata": {},
   "outputs": [
    {
     "name": "stdout",
     "output_type": "stream",
     "text": [
      "date time using datetime.now():\t 2023-10-01 15:37:43.491039\n",
      "\n",
      "current date and time:\n",
      " 2023-10-01 15:37:43\n"
     ]
    }
   ],
   "source": [
    "# Que. 2) Write a python program to display the current date and time\n",
    "\n",
    "#option 1\n",
    "\n",
    "import datetime\n",
    "\n",
    "now = datetime.datetime.now()\n",
    "print('date time using datetime.now():\\t', now)\n",
    "\n",
    "#option 2\n",
    "print('\\ncurrent date and time:\\n', now.strftime(\"%Y-%m-%d %H:%M:%S\"))\n"
   ]
  },
  {
   "cell_type": "code",
   "execution_count": 51,
   "id": "f56ad9a6",
   "metadata": {},
   "outputs": [
    {
     "name": "stdout",
     "output_type": "stream",
     "text": [
      "Input the radius of the circle:\t6\n",
      "The area of the circle with radius 6.0 is: 113.09733552923255\n"
     ]
    }
   ],
   "source": [
    "# Que. 3) Write a python program which accepts the radius of a circle from\n",
    "# the user and compute the area\n",
    "\n",
    "from math import pi\n",
    "r = float(input('Input the radius of the circle:\\t'))\n",
    "\n",
    "print('The area of the circle with radius ' + str(r) + ' is: ' \n",
    "      + str(pi * r **2))"
   ]
  },
  {
   "cell_type": "code",
   "execution_count": 54,
   "id": "120f58bf",
   "metadata": {},
   "outputs": [
    {
     "name": "stdout",
     "output_type": "stream",
     "text": [
      "Input your first name:\tNikhil\n",
      "Input your last name:\tAdam\n",
      "Hello Nikhil Adam\n"
     ]
    }
   ],
   "source": [
    "# Que. 4) Write a python program which accepts the user's first and last name\n",
    "# and print them in reverse order with a space between them\n",
    "\n",
    "fname = input('Input your first name:\\t')\n",
    "lname = input('Input your last name:\\t')\n",
    "\n",
    "print('Hello ' + fname + \" \" +lname) "
   ]
  },
  {
   "cell_type": "code",
   "execution_count": 55,
   "id": "0d38ea1f",
   "metadata": {},
   "outputs": [
    {
     "name": "stdout",
     "output_type": "stream",
     "text": [
      "Input some comma separated numbers:\t5, 10, 15, 20\n",
      "List:\t ['5', ' 10', ' 15', ' 20']\n",
      "Tuple:\t ('5', ' 10', ' 15', ' 20')\n"
     ]
    }
   ],
   "source": [
    "# Que. 5) Write a python program which accepts a sequence of comma-separated\n",
    "# numbers from user and generate a list and a tuple with those numbers\n",
    "\n",
    "#Example 1\n",
    "values = input('Input some comma separated numbers:\\t')\n",
    "\n",
    "list1 = values.split(',')\n",
    "tuple1 = tuple(list1)\n",
    "print('List:\\t', list1)\n",
    "print('Tuple:\\t', tuple1)"
   ]
  },
  {
   "cell_type": "code",
   "execution_count": 56,
   "id": "e2ef7aec",
   "metadata": {},
   "outputs": [
    {
     "name": "stdout",
     "output_type": "stream",
     "text": [
      "['Hello', ' my name is Nikhil', ' I am from India']\n"
     ]
    }
   ],
   "source": [
    "#Example 2\n",
    "\n",
    "txt = \"Hello, my name is Nikhil, I am from India\"\n",
    "\n",
    "x = txt.split(',')\n",
    "\n",
    "print(x)"
   ]
  },
  {
   "cell_type": "code",
   "execution_count": 57,
   "id": "c2b7cd75",
   "metadata": {},
   "outputs": [
    {
     "name": "stdout",
     "output_type": "stream",
     "text": [
      "['Apple', 'Banana', 'Cherry', 'Orange']\n"
     ]
    }
   ],
   "source": [
    "#Example 3\n",
    "\n",
    "txt = \"Apple#Banana#Cherry#Orange\"\n",
    "\n",
    "x = txt.split('#')\n",
    "print(x)"
   ]
  },
  {
   "cell_type": "code",
   "execution_count": 58,
   "id": "19227717",
   "metadata": {},
   "outputs": [
    {
     "name": "stdout",
     "output_type": "stream",
     "text": [
      "['Apple', 'Banana#Cherry#Orange']\n"
     ]
    }
   ],
   "source": [
    "#Example 4\n",
    "x = txt.split('#', 1)\n",
    "print(x)"
   ]
  },
  {
   "cell_type": "code",
   "execution_count": 60,
   "id": "a25724c8",
   "metadata": {},
   "outputs": [
    {
     "name": "stdout",
     "output_type": "stream",
     "text": [
      "Input the filename:\tCalculator.java\n",
      "The extension of the file is:\t'java'\n"
     ]
    }
   ],
   "source": [
    "# Que. 6) Write a python program to accept a filename from the user and print\n",
    "# the extension of that\n",
    "\n",
    "filename = input('Input the filename:\\t')\n",
    "f_extns = filename.split('.')\n",
    "print('The extension of the file is:\\t' + repr(f_extns[-1]))"
   ]
  },
  {
   "cell_type": "code",
   "execution_count": 62,
   "id": "9c24fcaa",
   "metadata": {},
   "outputs": [
    {
     "name": "stdout",
     "output_type": "stream",
     "text": [
      "date time:\t\t 2023-10-01 16:04:21.152455\n",
      "date time with str:\t 2023-10-01 16:04:21.152455\n",
      "date time with repr:\t datetime.datetime(2023, 10, 1, 16, 4, 21, 152455)\n"
     ]
    }
   ],
   "source": [
    "# Example of str(), repr()\n",
    "\n",
    "import datetime\n",
    "today = datetime.datetime.now()\n",
    "print('date time:\\t\\t', today)\n",
    "\n",
    "print('date time with str:\\t', str(today))\n",
    "print('date time with repr:\\t', repr(today))"
   ]
  },
  {
   "cell_type": "code",
   "execution_count": 64,
   "id": "c092139c",
   "metadata": {},
   "outputs": [
    {
     "name": "stdout",
     "output_type": "stream",
     "text": [
      "Red and Black\n"
     ]
    }
   ],
   "source": [
    "# Que. 7) Write a python program to display the first and last colors from  \n",
    "# the following list\n",
    "\n",
    "# color_list = [\"Red\", \"Green\", \"White\", \"Black\"]\n",
    "\n",
    "color_list = [\"Red\", \"Green\", \"White\", \"Black\"]\n",
    "print(\"%s and %s\" %(color_list[0], color_list[-1]))"
   ]
  },
  {
   "cell_type": "code",
   "execution_count": 68,
   "id": "5e8b5f1c",
   "metadata": {},
   "outputs": [
    {
     "name": "stdout",
     "output_type": "stream",
     "text": [
      "Input an integer:\t10\n",
      "102030\n"
     ]
    }
   ],
   "source": [
    "# Que. 8) Write a python program that accepts an integer (n) and computes \n",
    "# the value of n+nn+nnn\n",
    "\n",
    "a = int(input('Input an integer:\\t'))\n",
    "n1 = int(\"%s\" %a)\n",
    "n2 = int(\"%s%s\" %(a, a))\n",
    "n3 = int(\"%s%s%s\" %(a, a, a))\n",
    "print(n1 + n2 + n3)"
   ]
  },
  {
   "cell_type": "code",
   "execution_count": 70,
   "id": "f79d0f38",
   "metadata": {},
   "outputs": [
    {
     "name": "stdout",
     "output_type": "stream",
     "text": [
      "Enter the radius of shpere:\t6\n",
      "The volume of the sphere is:\t 904.7786842338603\n"
     ]
    }
   ],
   "source": [
    "# Que. 9) Write a python program to get the volume of a sphere\n",
    "\n",
    "r = int(input(\"Enter the radius of shpere:\\t\"))\n",
    "\n",
    "v = 4/3 * pi * r**3\n",
    "print(\"The volume of the sphere is:\\t\", v)"
   ]
  },
  {
   "cell_type": "code",
   "execution_count": 72,
   "id": "0800c63d",
   "metadata": {},
   "outputs": [
    {
     "name": "stdout",
     "output_type": "stream",
     "text": [
      "Input time in seconds:\t32656523\n",
      "d:h:m:s -> 377 days :23 hours :15 minutes :23 seconds\n"
     ]
    }
   ],
   "source": [
    "# Que. 10) Write a python program to convert seconds to day, hour, minutes\n",
    "# and seconds\n",
    "\n",
    "time = float(input(\"Input time in seconds:\\t\"))\n",
    "\n",
    "day = time // (24 * 3600)\n",
    "time = time % (24 * 3600)\n",
    "hour = time // 3600\n",
    "time %= 3600\n",
    "minutes = time // 60\n",
    "time %= 60\n",
    "seconds = time\n",
    "\n",
    "print(\"d:h:m:s -> %d days :%d hours :%d minutes :%d seconds\" \n",
    "      %(day, hour, minutes, seconds))"
   ]
  },
  {
   "cell_type": "code",
   "execution_count": null,
   "id": "11258bd0",
   "metadata": {},
   "outputs": [],
   "source": []
  }
 ],
 "metadata": {
  "kernelspec": {
   "display_name": "Python 3 (ipykernel)",
   "language": "python",
   "name": "python3"
  },
  "language_info": {
   "codemirror_mode": {
    "name": "ipython",
    "version": 3
   },
   "file_extension": ".py",
   "mimetype": "text/x-python",
   "name": "python",
   "nbconvert_exporter": "python",
   "pygments_lexer": "ipython3",
   "version": "3.10.9"
  }
 },
 "nbformat": 4,
 "nbformat_minor": 5
}
